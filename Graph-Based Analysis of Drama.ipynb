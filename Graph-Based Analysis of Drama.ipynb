{
 "cells": [
  {
   "cell_type": "code",
   "execution_count": 463,
   "metadata": {},
   "outputs": [],
   "source": [
    "import networkx as nx \n",
    "import collections\n",
    "import matplotlib.pyplot as plt\n",
    "import networkx as nx\n",
    "import numpy as np\n",
    "import pandas as pd \n",
    "import os\n",
    "from scipy import stats\n",
    "from sklearn.metrics import accuracy_score\n",
    "from sklearn.metrics import f1_score\n",
    "from sklearn import svm\n",
    "from sklearn.model_selection import train_test_split"
   ]
  },
  {
   "cell_type": "markdown",
   "metadata": {},
   "source": [
    "### Getting plays from the folder."
   ]
  },
  {
   "cell_type": "code",
   "execution_count": 3,
   "metadata": {},
   "outputs": [],
   "source": [
    "def get_gexf_dict(folder):\n",
    "    \"\"\" достаём словарь сетей в формате gexf \"\"\"\n",
    "    plays_paths = []\n",
    "    for i in os.walk(\"./gexf\"):\n",
    "        for play in i[2]:\n",
    "            plays_paths.append(\"./gexf/\"+play)\n",
    "            \n",
    "    play_graph_dict = {}\n",
    "    for path in plays_paths:\n",
    "        play_name = path.split(\"/\")[-1].replace(\".gexf\", \"\")\n",
    "        play_graph_dict[play_name] = nx.Graph(nx.read_gexf(path)) \n",
    "\n",
    "    return play_graph_dict"
   ]
  },
  {
   "cell_type": "code",
   "execution_count": 4,
   "metadata": {},
   "outputs": [],
   "source": [
    "play_graph_dict = get_gexf_dict(\"./gexf\")"
   ]
  },
  {
   "cell_type": "code",
   "execution_count": 5,
   "metadata": {},
   "outputs": [
    {
     "data": {
      "text/plain": [
       "10"
      ]
     },
     "execution_count": 5,
     "metadata": {},
     "output_type": "execute_result"
    }
   ],
   "source": [
    "play_graph_dict[\"sumarokov-gamlet\"].number_of_nodes()"
   ]
  },
  {
   "cell_type": "code",
   "execution_count": 6,
   "metadata": {},
   "outputs": [
    {
     "data": {
      "text/plain": [
       "210"
      ]
     },
     "execution_count": 6,
     "metadata": {},
     "output_type": "execute_result"
    }
   ],
   "source": [
    "len(play_graph_dict)"
   ]
  },
  {
   "cell_type": "code",
   "execution_count": 7,
   "metadata": {},
   "outputs": [],
   "source": [
    "# reading metadata"
   ]
  },
  {
   "cell_type": "code",
   "execution_count": 8,
   "metadata": {},
   "outputs": [],
   "source": [
    "metadata = pd.read_json(\"meta_data.json\")"
   ]
  },
  {
   "cell_type": "code",
   "execution_count": 9,
   "metadata": {},
   "outputs": [
    {
     "data": {
      "text/html": [
       "<div>\n",
       "<style scoped>\n",
       "    .dataframe tbody tr th:only-of-type {\n",
       "        vertical-align: middle;\n",
       "    }\n",
       "\n",
       "    .dataframe tbody tr th {\n",
       "        vertical-align: top;\n",
       "    }\n",
       "\n",
       "    .dataframe thead th {\n",
       "        text-align: right;\n",
       "    }\n",
       "</style>\n",
       "<table border=\"1\" class=\"dataframe\">\n",
       "  <thead>\n",
       "    <tr style=\"text-align: right;\">\n",
       "      <th></th>\n",
       "      <th>size</th>\n",
       "      <th>genre</th>\n",
       "      <th>averageClustering</th>\n",
       "      <th>numOfPersonGroups</th>\n",
       "      <th>density</th>\n",
       "      <th>averagePathLength</th>\n",
       "      <th>maxDegreeIds</th>\n",
       "      <th>averageDegree</th>\n",
       "      <th>name</th>\n",
       "      <th>diameter</th>\n",
       "      <th>...</th>\n",
       "      <th>numConnectedComponents</th>\n",
       "      <th>numOfSpeakersUnknown</th>\n",
       "      <th>yearWritten</th>\n",
       "      <th>id</th>\n",
       "      <th>numOfSpeakersFemale</th>\n",
       "      <th>numOfSegments</th>\n",
       "      <th>numOfSpeakersMale</th>\n",
       "      <th>wikipediaLinkCount</th>\n",
       "      <th>numOfActs</th>\n",
       "      <th>playName</th>\n",
       "    </tr>\n",
       "  </thead>\n",
       "  <tbody>\n",
       "    <tr>\n",
       "      <th>0</th>\n",
       "      <td>12</td>\n",
       "      <td>None</td>\n",
       "      <td>0.959933</td>\n",
       "      <td>0</td>\n",
       "      <td>0.954545</td>\n",
       "      <td>1.045455</td>\n",
       "      <td>several characters</td>\n",
       "      <td>10.500000</td>\n",
       "      <td>afinogenov-mashenka</td>\n",
       "      <td>2</td>\n",
       "      <td>...</td>\n",
       "      <td>1</td>\n",
       "      <td>1</td>\n",
       "      <td>1940.0</td>\n",
       "      <td>rus000167</td>\n",
       "      <td>6</td>\n",
       "      <td>7</td>\n",
       "      <td>5</td>\n",
       "      <td>1</td>\n",
       "      <td>3</td>\n",
       "      <td>afinogenov-mashenka</td>\n",
       "    </tr>\n",
       "    <tr>\n",
       "      <th>1</th>\n",
       "      <td>13</td>\n",
       "      <td>None</td>\n",
       "      <td>0.958042</td>\n",
       "      <td>0</td>\n",
       "      <td>0.948718</td>\n",
       "      <td>1.051282</td>\n",
       "      <td>several characters</td>\n",
       "      <td>11.384615</td>\n",
       "      <td>andreyev-k-zvezdam</td>\n",
       "      <td>2</td>\n",
       "      <td>...</td>\n",
       "      <td>1</td>\n",
       "      <td>0</td>\n",
       "      <td>1905.0</td>\n",
       "      <td>rus000194</td>\n",
       "      <td>4</td>\n",
       "      <td>4</td>\n",
       "      <td>9</td>\n",
       "      <td>0</td>\n",
       "      <td>4</td>\n",
       "      <td>andreyev-k-zvezdam</td>\n",
       "    </tr>\n",
       "    <tr>\n",
       "      <th>2</th>\n",
       "      <td>15</td>\n",
       "      <td>tragedy</td>\n",
       "      <td>0.810899</td>\n",
       "      <td>0</td>\n",
       "      <td>0.371429</td>\n",
       "      <td>1.914286</td>\n",
       "      <td>kerzhentsev</td>\n",
       "      <td>5.200000</td>\n",
       "      <td>andreyev-mysl</td>\n",
       "      <td>3</td>\n",
       "      <td>...</td>\n",
       "      <td>1</td>\n",
       "      <td>0</td>\n",
       "      <td>1913.0</td>\n",
       "      <td>rus000137</td>\n",
       "      <td>6</td>\n",
       "      <td>6</td>\n",
       "      <td>9</td>\n",
       "      <td>0</td>\n",
       "      <td>3</td>\n",
       "      <td>andreyev-mysl</td>\n",
       "    </tr>\n",
       "    <tr>\n",
       "      <th>3</th>\n",
       "      <td>23</td>\n",
       "      <td>None</td>\n",
       "      <td>0.912104</td>\n",
       "      <td>0</td>\n",
       "      <td>0.588933</td>\n",
       "      <td>1.415020</td>\n",
       "      <td>vasilisa_petrovna|yakov</td>\n",
       "      <td>12.956522</td>\n",
       "      <td>andreyev-ne-ubiy</td>\n",
       "      <td>3</td>\n",
       "      <td>...</td>\n",
       "      <td>1</td>\n",
       "      <td>0</td>\n",
       "      <td>1913.0</td>\n",
       "      <td>rus000138</td>\n",
       "      <td>9</td>\n",
       "      <td>6</td>\n",
       "      <td>14</td>\n",
       "      <td>0</td>\n",
       "      <td>5</td>\n",
       "      <td>andreyev-ne-ubiy</td>\n",
       "    </tr>\n",
       "    <tr>\n",
       "      <th>4</th>\n",
       "      <td>22</td>\n",
       "      <td>None</td>\n",
       "      <td>0.876271</td>\n",
       "      <td>0</td>\n",
       "      <td>0.320346</td>\n",
       "      <td>1.909091</td>\n",
       "      <td>katya</td>\n",
       "      <td>6.727273</td>\n",
       "      <td>babel-marija</td>\n",
       "      <td>3</td>\n",
       "      <td>...</td>\n",
       "      <td>1</td>\n",
       "      <td>0</td>\n",
       "      <td>1934.0</td>\n",
       "      <td>rus000119</td>\n",
       "      <td>8</td>\n",
       "      <td>8</td>\n",
       "      <td>14</td>\n",
       "      <td>2</td>\n",
       "      <td>0</td>\n",
       "      <td>babel-marija</td>\n",
       "    </tr>\n",
       "  </tbody>\n",
       "</table>\n",
       "<p>5 rows × 25 columns</p>\n",
       "</div>"
      ],
      "text/plain": [
       "   size    genre  averageClustering  numOfPersonGroups   density  \\\n",
       "0    12     None           0.959933                  0  0.954545   \n",
       "1    13     None           0.958042                  0  0.948718   \n",
       "2    15  tragedy           0.810899                  0  0.371429   \n",
       "3    23     None           0.912104                  0  0.588933   \n",
       "4    22     None           0.876271                  0  0.320346   \n",
       "\n",
       "   averagePathLength             maxDegreeIds  averageDegree  \\\n",
       "0           1.045455       several characters      10.500000   \n",
       "1           1.051282       several characters      11.384615   \n",
       "2           1.914286              kerzhentsev       5.200000   \n",
       "3           1.415020  vasilisa_petrovna|yakov      12.956522   \n",
       "4           1.909091                    katya       6.727273   \n",
       "\n",
       "                  name  diameter  ...  numConnectedComponents  \\\n",
       "0  afinogenov-mashenka         2  ...                       1   \n",
       "1   andreyev-k-zvezdam         2  ...                       1   \n",
       "2        andreyev-mysl         3  ...                       1   \n",
       "3     andreyev-ne-ubiy         3  ...                       1   \n",
       "4         babel-marija         3  ...                       1   \n",
       "\n",
       "   numOfSpeakersUnknown  yearWritten         id  numOfSpeakersFemale  \\\n",
       "0                     1       1940.0  rus000167                    6   \n",
       "1                     0       1905.0  rus000194                    4   \n",
       "2                     0       1913.0  rus000137                    6   \n",
       "3                     0       1913.0  rus000138                    9   \n",
       "4                     0       1934.0  rus000119                    8   \n",
       "\n",
       "   numOfSegments  numOfSpeakersMale  wikipediaLinkCount numOfActs  \\\n",
       "0              7                  5                   1         3   \n",
       "1              4                  9                   0         4   \n",
       "2              6                  9                   0         3   \n",
       "3              6                 14                   0         5   \n",
       "4              8                 14                   2         0   \n",
       "\n",
       "              playName  \n",
       "0  afinogenov-mashenka  \n",
       "1   andreyev-k-zvezdam  \n",
       "2        andreyev-mysl  \n",
       "3     andreyev-ne-ubiy  \n",
       "4         babel-marija  \n",
       "\n",
       "[5 rows x 25 columns]"
      ]
     },
     "execution_count": 9,
     "metadata": {},
     "output_type": "execute_result"
    }
   ],
   "source": [
    "metadata.head()"
   ]
  },
  {
   "cell_type": "code",
   "execution_count": 10,
   "metadata": {},
   "outputs": [],
   "source": [
    "def get_year_dict(metadata):\n",
    "    year_dict = {}\n",
    "    for index, play in enumerate(metadata[\"playName\"]):\n",
    "        year_dict[play] = metadata[\"yearNormalized\"].iloc[index]\n",
    "    return year_dict"
   ]
  },
  {
   "cell_type": "code",
   "execution_count": 11,
   "metadata": {},
   "outputs": [],
   "source": [
    "year_dict = get_year_dict(metadata)"
   ]
  },
  {
   "cell_type": "code",
   "execution_count": 12,
   "metadata": {},
   "outputs": [],
   "source": [
    "# соотношение женских персонажей к женским и мужским, по годам\n",
    "\n",
    "fem_percents = []\n",
    "play_years = []\n",
    "\n",
    "for play in play_graph_dict:\n",
    "    play_G = play_graph_dict[play]\n",
    "    female_amount, male_amount, overall_amount = 0, 0, 0 \n",
    "    \n",
    "    for node in play_G.nodes:\n",
    "        overall_amount += 1\n",
    "        if play_G.nodes[node][\"Gender\"] == \"FEMALE\":\n",
    "            female_amount += 1\n",
    "        elif play_G.nodes[node][\"Gender\"] == \"MALE\":\n",
    "            male_amount += 1 \n",
    "    female_percent = female_amount/(female_amount+male_amount) \n",
    "    \n",
    "    fem_percents.append(round(female_percent, 3))\n",
    "    play_years.append(year_dict[play])"
   ]
  },
  {
   "cell_type": "code",
   "execution_count": 13,
   "metadata": {},
   "outputs": [
    {
     "data": {
      "text/plain": [
       "<matplotlib.collections.PathCollection at 0x114f8f150>"
      ]
     },
     "execution_count": 13,
     "metadata": {},
     "output_type": "execute_result"
    },
    {
     "data": {
      "image/png": "[encoded data removed]",
      "text/plain": [
       "<Figure size 432x288 with 1 Axes>"
      ]
     },
     "metadata": {
      "needs_background": "light"
     },
     "output_type": "display_data"
    }
   ],
   "source": [
    "plt.scatter(fem_percents, play_years)"
   ]
  },
  {
   "cell_type": "code",
   "execution_count": 241,
   "metadata": {},
   "outputs": [],
   "source": [
    "# let's add relative number of spoken words as an attribute for every role the play\n",
    "for play in play_graph_dict:\n",
    "    sum_of_words=0\n",
    "    play_graph = play_graph_dict[play]\n",
    "    sum_of_words = [int(play_graph.nodes[node][\"Number of spoken words\"]) for node in play_graph.nodes]\n",
    "    sum_of_words = sum(sum_of_words)\n",
    "    for node in play_graph.nodes:\n",
    "        play_graph_dict[play].nodes()[node]['relative_num_of_words'] = round(play_graph.nodes[node][\"Number of spoken words\"]/sum_of_words, 6)"
   ]
  },
  {
   "cell_type": "markdown",
   "metadata": {},
   "source": [
    "### Main/Supporting/Episodic markup."
   ]
  },
  {
   "cell_type": "code",
   "execution_count": 242,
   "metadata": {},
   "outputs": [],
   "source": [
    "# checking if we can add an attribute"
   ]
  },
  {
   "cell_type": "code",
   "execution_count": 243,
   "metadata": {},
   "outputs": [
    {
     "data": {
      "text/plain": [
       "{'Person group': False,\n",
       " 'Number of spoken words': 683,\n",
       " 'Gender': 'MALE',\n",
       " 'label': 'Актер',\n",
       " 'importance': 'Lead',\n",
       " 'relative_num_of_words': 0.053172}"
      ]
     },
     "execution_count": 243,
     "metadata": {},
     "output_type": "execute_result"
    }
   ],
   "source": [
    "play_graph_dict['gorky-na-dne'].nodes()[\"Akter\"]"
   ]
  },
  {
   "cell_type": "code",
   "execution_count": 244,
   "metadata": {},
   "outputs": [],
   "source": [
    "play_graph_dict['gorky-na-dne'].nodes()[\"Akter\"][\"importance\"] = \"Lead\""
   ]
  },
  {
   "cell_type": "code",
   "execution_count": 245,
   "metadata": {},
   "outputs": [
    {
     "data": {
      "text/plain": [
       "'Lead'"
      ]
     },
     "execution_count": 245,
     "metadata": {},
     "output_type": "execute_result"
    }
   ],
   "source": [
    "play_graph_dict['gorky-na-dne'].nodes()[\"Akter\"][\"importance\"] "
   ]
  },
  {
   "cell_type": "markdown",
   "metadata": {},
   "source": [
    "Markup of characters of 50 plays.\n",
    "Sources of knowledge: summarys, Wiki description, skimming through the text of the play."
   ]
  },
  {
   "cell_type": "code",
   "execution_count": 246,
   "metadata": {},
   "outputs": [],
   "source": [
    "nodes_lengths = []\n",
    "\n",
    "for x in play_graph_dict:\n",
    "    nodes_lengths.append(len(play_graph_dict[x].nodes()))"
   ]
  },
  {
   "cell_type": "code",
   "execution_count": 247,
   "metadata": {},
   "outputs": [
    {
     "data": {
      "text/plain": [
       "(array([114.,  48.,  25.,   8.,   4.,   0.,   3.,   2.,   1.,   5.]),\n",
       " array([  2.,  12.,  22.,  32.,  42.,  52.,  62.,  72.,  82.,  92., 102.]),\n",
       " <a list of 10 Patch objects>)"
      ]
     },
     "execution_count": 247,
     "metadata": {},
     "output_type": "execute_result"
    },
    {
     "data": {
      "image/png": "[encoded data removed]",
      "text/plain": [
       "<Figure size 432x288 with 1 Axes>"
      ]
     },
     "metadata": {
      "needs_background": "light"
     },
     "output_type": "display_data"
    }
   ],
   "source": [
    "# distribution of character amount for plays\n",
    "plt.hist(nodes_lengths)"
   ]
  },
  {
   "cell_type": "code",
   "execution_count": 248,
   "metadata": {},
   "outputs": [
    {
     "data": {
      "text/plain": [
       "114"
      ]
     },
     "execution_count": 248,
     "metadata": {},
     "output_type": "execute_result"
    }
   ],
   "source": [
    "X = 12\n",
    "less_than_X = [x for x in nodes_lengths if x < X]\n",
    "allover = len(nodes_lengths)\n",
    "\n",
    "len(less_than_X) "
   ]
  },
  {
   "cell_type": "markdown",
   "metadata": {},
   "source": [
    "Let us analyze only relatively small graphs with 12 or less characters."
   ]
  },
  {
   "cell_type": "code",
   "execution_count": 249,
   "metadata": {},
   "outputs": [],
   "source": [
    "under_12_dict = {}\n",
    "for x in play_graph_dict:\n",
    "    if len(play_graph_dict[x].nodes()) < 12:\n",
    "        under_12_dict[x] = play_graph_dict[x]"
   ]
  },
  {
   "cell_type": "code",
   "execution_count": 250,
   "metadata": {},
   "outputs": [
    {
     "data": {
      "text/plain": [
       "114"
      ]
     },
     "execution_count": 250,
     "metadata": {},
     "output_type": "execute_result"
    }
   ],
   "source": [
    "len(under_12_dict)"
   ]
  },
  {
   "cell_type": "code",
   "execution_count": 251,
   "metadata": {},
   "outputs": [],
   "source": [
    "### beginning of exhausting mark-up\n",
    "### it can be a good idea to CTRL-F-jump to the part \"markup is finished\""
   ]
  },
  {
   "cell_type": "code",
   "execution_count": 252,
   "metadata": {},
   "outputs": [],
   "source": [
    "dict_with_lead_markup = {}"
   ]
  },
  {
   "cell_type": "code",
   "execution_count": 253,
   "metadata": {},
   "outputs": [],
   "source": [
    "#1 fonvizin-brigadir"
   ]
  },
  {
   "cell_type": "code",
   "execution_count": 254,
   "metadata": {},
   "outputs": [
    {
     "data": {
      "text/plain": [
       "NodeView(('sovetnik', 'syn', 'brigadir', 'sovetnitsa', 'brigadirsha', 'sofja', 'sluga', 'dobroljubov'))"
      ]
     },
     "execution_count": 254,
     "metadata": {},
     "output_type": "execute_result"
    }
   ],
   "source": [
    "under_12_dict[\"fonvizin-brigadir\"].nodes()"
   ]
  },
  {
   "cell_type": "code",
   "execution_count": 255,
   "metadata": {},
   "outputs": [],
   "source": [
    "play_graph_dict[\"fonvizin-brigadir\"].nodes()[\"sovetnik\"][\"importance\"] = \"Lead\"\n",
    "play_graph_dict[\"fonvizin-brigadir\"].nodes()[\"syn\"][\"importance\"] = \"Lead\"\n",
    "play_graph_dict[\"fonvizin-brigadir\"].nodes()[\"brigadir\"][\"importance\"] = \"Lead\"\n",
    "play_graph_dict[\"fonvizin-brigadir\"].nodes()[\"sovetnitsa\"][\"importance\"] = \"Lead\"\n",
    "play_graph_dict[\"fonvizin-brigadir\"].nodes()[\"brigadirsha\"][\"importance\"] = \"Lead\"\n",
    "play_graph_dict[\"fonvizin-brigadir\"].nodes()[\"sofja\"][\"importance\"] = \"Secondary\"\n",
    "play_graph_dict[\"fonvizin-brigadir\"].nodes()[\"dobroljubov\"][\"importance\"] = \"Secondary\"\n",
    "play_graph_dict[\"fonvizin-brigadir\"].nodes()[\"sluga\"][\"importance\"] = \"Episode\""
   ]
  },
  {
   "cell_type": "code",
   "execution_count": 256,
   "metadata": {},
   "outputs": [],
   "source": [
    "dict_with_lead_markup[\"fonvizin-brigadir\"] = play_graph_dict[\"fonvizin-brigadir\"]"
   ]
  },
  {
   "cell_type": "code",
   "execution_count": 257,
   "metadata": {},
   "outputs": [],
   "source": [
    "#2 mamin-sibirjak-zolotopromyshlenniki"
   ]
  },
  {
   "cell_type": "code",
   "execution_count": 258,
   "metadata": {},
   "outputs": [
    {
     "data": {
      "text/plain": [
       "NodeView(('belonosov', 'shirinkin', 'anisja_tihonovna', 'vorotov', 'molokov', 'marfa_lukinishna', 'zasypkin', 'mosevna', 'lena', 'dasha', 'cheprakov'))"
      ]
     },
     "execution_count": 258,
     "metadata": {},
     "output_type": "execute_result"
    }
   ],
   "source": [
    "under_12_dict[\"mamin-sibirjak-zolotopromyshlenniki\"].nodes()"
   ]
  },
  {
   "cell_type": "code",
   "execution_count": 259,
   "metadata": {},
   "outputs": [],
   "source": [
    "play_graph_dict[\"mamin-sibirjak-zolotopromyshlenniki\"].nodes()[\"zasypkin\"][\"importance\"] = \"Lead\"\n",
    "play_graph_dict[\"mamin-sibirjak-zolotopromyshlenniki\"].nodes()[\"anisja_tihonovna\"][\"importance\"] = \"Lead\"\n",
    "play_graph_dict[\"mamin-sibirjak-zolotopromyshlenniki\"].nodes()[\"belonosov\"][\"importance\"] = \"Secondary\" \n",
    "play_graph_dict[\"mamin-sibirjak-zolotopromyshlenniki\"].nodes()[\"shirinkin\"][\"importance\"] = \"Secondary\" \n",
    "play_graph_dict[\"mamin-sibirjak-zolotopromyshlenniki\"].nodes()[\"vorotov\"][\"importance\"] = \"Secondary\" \n",
    "play_graph_dict[\"mamin-sibirjak-zolotopromyshlenniki\"].nodes()[\"molokov\"][\"importance\"] = \"Secondary\" \n",
    "play_graph_dict[\"mamin-sibirjak-zolotopromyshlenniki\"].nodes()[\"marfa_lukinishna\"][\"importance\"] = \"Secondary\" \n",
    "play_graph_dict[\"mamin-sibirjak-zolotopromyshlenniki\"].nodes()[\"lena\"][\"importance\"] = \"Secondary\" \n",
    "play_graph_dict[\"mamin-sibirjak-zolotopromyshlenniki\"].nodes()[\"cheprakov\"][\"importance\"] = \"Episode\" \n",
    "play_graph_dict[\"mamin-sibirjak-zolotopromyshlenniki\"].nodes()[\"mosevna\"][\"importance\"] = \"Episode\" \n",
    "play_graph_dict[\"mamin-sibirjak-zolotopromyshlenniki\"].nodes()[\"dasha\"][\"importance\"] = \"Episode\" "
   ]
  },
  {
   "cell_type": "code",
   "execution_count": 260,
   "metadata": {},
   "outputs": [],
   "source": [
    "dict_with_lead_markup[\"mamin-sibirjak-zolotopromyshlenniki\"] = play_graph_dict[\"mamin-sibirjak-zolotopromyshlenniki\"]"
   ]
  },
  {
   "cell_type": "code",
   "execution_count": 261,
   "metadata": {},
   "outputs": [],
   "source": [
    "#3 turgenev-zavtrak-u-predvoditelja"
   ]
  },
  {
   "cell_type": "code",
   "execution_count": 262,
   "metadata": {},
   "outputs": [
    {
     "data": {
      "text/plain": [
       "NodeView(('mirvolin', 'gerasim', 'balagalaev', 'velvitskij', 'alupkin', 'suslov', 'kaurova', 'karp', 'bespandin', 'pehterev', 'naglanovich'))"
      ]
     },
     "execution_count": 262,
     "metadata": {},
     "output_type": "execute_result"
    }
   ],
   "source": [
    "under_12_dict[\"turgenev-zavtrak-u-predvoditelja\"].nodes()"
   ]
  },
  {
   "cell_type": "code",
   "execution_count": 263,
   "metadata": {},
   "outputs": [],
   "source": [
    "play_graph_dict[\"turgenev-zavtrak-u-predvoditelja\"].nodes()[\"balagalaev\"][\"importance\"] = \"Lead\" \n",
    "play_graph_dict[\"turgenev-zavtrak-u-predvoditelja\"].nodes()[\"mirvolin\"][\"importance\"] = \"Secondary\" \n",
    "play_graph_dict[\"turgenev-zavtrak-u-predvoditelja\"].nodes()[\"alupkin\"][\"importance\"] = \"Secondary\" \n",
    "play_graph_dict[\"turgenev-zavtrak-u-predvoditelja\"].nodes()[\"suslov\"][\"importance\"] = \"Secondary\" \n",
    "play_graph_dict[\"turgenev-zavtrak-u-predvoditelja\"].nodes()[\"kaurova\"][\"importance\"] = \"Secondary\" \n",
    "play_graph_dict[\"turgenev-zavtrak-u-predvoditelja\"].nodes()[\"bespandin\"][\"importance\"] = \"Secondary\" \n",
    "play_graph_dict[\"turgenev-zavtrak-u-predvoditelja\"].nodes()[\"pehterev\"][\"importance\"] = \"Secondary\" \n",
    "play_graph_dict[\"turgenev-zavtrak-u-predvoditelja\"].nodes()[\"naglanovich\"][\"importance\"] = \"Secondary\" \n",
    "play_graph_dict[\"turgenev-zavtrak-u-predvoditelja\"].nodes()[\"gerasim\"][\"importance\"] = \"Episode\" \n",
    "play_graph_dict[\"turgenev-zavtrak-u-predvoditelja\"].nodes()[\"velvitskij\"][\"importance\"] = \"Episode\" \n",
    "play_graph_dict[\"turgenev-zavtrak-u-predvoditelja\"].nodes()[\"karp\"][\"importance\"] = \"Episode\" "
   ]
  },
  {
   "cell_type": "code",
   "execution_count": 264,
   "metadata": {},
   "outputs": [],
   "source": [
    "dict_with_lead_markup[\"turgenev-zavtrak-u-predvoditelja\"] = play_graph_dict[\"turgenev-zavtrak-u-predvoditelja\"]"
   ]
  },
  {
   "cell_type": "code",
   "execution_count": 265,
   "metadata": {},
   "outputs": [],
   "source": [
    "#4 griboyedov-molodye-suprugi"
   ]
  },
  {
   "cell_type": "code",
   "execution_count": 266,
   "metadata": {},
   "outputs": [
    {
     "data": {
      "text/plain": [
       "NodeView(('arist', 'elmira', 'safir'))"
      ]
     },
     "execution_count": 266,
     "metadata": {},
     "output_type": "execute_result"
    }
   ],
   "source": [
    "under_12_dict[\"griboyedov-molodye-suprugi\"].nodes()"
   ]
  },
  {
   "cell_type": "code",
   "execution_count": 267,
   "metadata": {},
   "outputs": [],
   "source": [
    "play_graph_dict[\"griboyedov-molodye-suprugi\"].nodes()[\"arist\"][\"importance\"] = \"Lead\" \n",
    "play_graph_dict[\"griboyedov-molodye-suprugi\"].nodes()[\"elmira\"][\"importance\"] = \"Lead\" \n",
    "play_graph_dict[\"griboyedov-molodye-suprugi\"].nodes()[\"safir\"][\"importance\"] = \"Lead\" "
   ]
  },
  {
   "cell_type": "code",
   "execution_count": 268,
   "metadata": {},
   "outputs": [],
   "source": [
    "dict_with_lead_markup[\"griboyedov-molodye-suprugi\"] = play_graph_dict[\"griboyedov-molodye-suprugi\"]"
   ]
  },
  {
   "cell_type": "code",
   "execution_count": 269,
   "metadata": {},
   "outputs": [],
   "source": [
    "#5 krylov-sonnyj-poroshok"
   ]
  },
  {
   "cell_type": "code",
   "execution_count": 270,
   "metadata": {},
   "outputs": [
    {
     "data": {
      "text/plain": [
       "NodeView(('blez', 'muzhiki', 'nineta', 'zhaneta', 'hor', 'zhuleta', 'rabotniki', 'graf', 'paulin', 'filipp'))"
      ]
     },
     "execution_count": 270,
     "metadata": {},
     "output_type": "execute_result"
    }
   ],
   "source": [
    "under_12_dict[\"krylov-sonnyj-poroshok\"].nodes()"
   ]
  },
  {
   "cell_type": "code",
   "execution_count": 271,
   "metadata": {},
   "outputs": [],
   "source": [
    "play_graph_dict[\"krylov-sonnyj-poroshok\"].nodes()[\"blez\"][\"importance\"] = \"Secondary\" \n",
    "play_graph_dict[\"krylov-sonnyj-poroshok\"].nodes()[\"muzhiki\"][\"importance\"] = \"Group\" \n",
    "play_graph_dict[\"krylov-sonnyj-poroshok\"].nodes()[\"nineta\"][\"importance\"] = \"Episode\" \n",
    "play_graph_dict[\"krylov-sonnyj-poroshok\"].nodes()[\"zhaneta\"][\"importance\"] = \"Episode\" \n",
    "play_graph_dict[\"krylov-sonnyj-poroshok\"].nodes()[\"hor\"][\"importance\"] = \"Group\" \n",
    "play_graph_dict[\"krylov-sonnyj-poroshok\"].nodes()[\"zhuleta\"][\"importance\"] = \"Lead\" \n",
    "play_graph_dict[\"krylov-sonnyj-poroshok\"].nodes()[\"graf\"][\"importance\"] = \"Lead\" \n",
    "play_graph_dict[\"krylov-sonnyj-poroshok\"].nodes()[\"filipp\"][\"importance\"] = \"Lead\" \n",
    "play_graph_dict[\"krylov-sonnyj-poroshok\"].nodes()[\"paulin\"][\"importance\"] = \"Secondary\" \n",
    "play_graph_dict[\"krylov-sonnyj-poroshok\"].nodes()[\"rabotniki\"][\"importance\"] = \"Group\" "
   ]
  },
  {
   "cell_type": "code",
   "execution_count": 272,
   "metadata": {},
   "outputs": [],
   "source": [
    "dict_with_lead_markup[\"krylov-sonnyj-poroshok\"] = play_graph_dict[\"krylov-sonnyj-poroshok\"]"
   ]
  },
  {
   "cell_type": "code",
   "execution_count": 273,
   "metadata": {},
   "outputs": [],
   "source": [
    "#6 sollogub-chinovnik"
   ]
  },
  {
   "cell_type": "code",
   "execution_count": 274,
   "metadata": {},
   "outputs": [
    {
     "data": {
      "text/plain": [
       "NodeView(('strelskij_polkovnik', 'grafinja', 'mishorin', 'nadimov', 'sluga', 'drobinkin'))"
      ]
     },
     "execution_count": 274,
     "metadata": {},
     "output_type": "execute_result"
    }
   ],
   "source": [
    "under_12_dict[\"sollogub-chinovnik\"].nodes()"
   ]
  },
  {
   "cell_type": "code",
   "execution_count": 275,
   "metadata": {},
   "outputs": [],
   "source": [
    "play_graph_dict[\"sollogub-chinovnik\"].nodes()[\"strelskij_polkovnik\"][\"importance\"] = \"Lead\" \n",
    "play_graph_dict[\"sollogub-chinovnik\"].nodes()[\"grafinja\"][\"importance\"] = \"Lead\" \n",
    "play_graph_dict[\"sollogub-chinovnik\"].nodes()[\"mishorin\"][\"importance\"] = \"Lead\" \n",
    "play_graph_dict[\"sollogub-chinovnik\"].nodes()[\"nadimov\"][\"importance\"] = \"Lead\" \n",
    "play_graph_dict[\"sollogub-chinovnik\"].nodes()[\"drobinkin\"][\"importance\"] = \"Secondary\" \n",
    "play_graph_dict[\"sollogub-chinovnik\"].nodes()[\"sluga\"][\"importance\"] = \"Episode\"  "
   ]
  },
  {
   "cell_type": "code",
   "execution_count": 276,
   "metadata": {},
   "outputs": [],
   "source": [
    "dict_with_lead_markup[\"sollogub-chinovnik\"] = play_graph_dict[\"sollogub-chinovnik\"]"
   ]
  },
  {
   "cell_type": "code",
   "execution_count": 277,
   "metadata": {},
   "outputs": [],
   "source": [
    "#7 ostrovsky-nevolnicy"
   ]
  },
  {
   "cell_type": "code",
   "execution_count": 278,
   "metadata": {},
   "outputs": [
    {
     "data": {
      "text/plain": [
       "NodeView(('miron', 'marfa', 'styrov', 'koblov', 'mulin', 'evlaliya', 'sofya'))"
      ]
     },
     "execution_count": 278,
     "metadata": {},
     "output_type": "execute_result"
    }
   ],
   "source": [
    "under_12_dict[\"ostrovsky-nevolnicy\"].nodes()"
   ]
  },
  {
   "cell_type": "code",
   "execution_count": 279,
   "metadata": {},
   "outputs": [],
   "source": [
    "play_graph_dict[\"ostrovsky-nevolnicy\"].nodes()[\"evlaliya\"][\"importance\"] = \"Lead\" \n",
    "play_graph_dict[\"ostrovsky-nevolnicy\"].nodes()[\"miron\"][\"importance\"] = \"Secondary\" \n",
    "play_graph_dict[\"ostrovsky-nevolnicy\"].nodes()[\"marfa\"][\"importance\"] = \"Secondary\" \n",
    "play_graph_dict[\"ostrovsky-nevolnicy\"].nodes()[\"styrov\"][\"importance\"] = \"Secondary\" \n",
    "play_graph_dict[\"ostrovsky-nevolnicy\"].nodes()[\"koblov\"][\"importance\"] = \"Secondary\" \n",
    "play_graph_dict[\"ostrovsky-nevolnicy\"].nodes()[\"mulin\"][\"importance\"] = \"Secondary\"  \n",
    "play_graph_dict[\"ostrovsky-nevolnicy\"].nodes()[\"sofya\"][\"importance\"] = \"Secondary\"   "
   ]
  },
  {
   "cell_type": "code",
   "execution_count": 280,
   "metadata": {},
   "outputs": [],
   "source": [
    "dict_with_lead_markup[\"ostrovsky-nevolnicy\"] = play_graph_dict[\"ostrovsky-nevolnicy\"]"
   ]
  },
  {
   "cell_type": "code",
   "execution_count": 281,
   "metadata": {},
   "outputs": [],
   "source": [
    "#8 prutkov-oprometchivyj-turka"
   ]
  },
  {
   "cell_type": "code",
   "execution_count": 282,
   "metadata": {},
   "outputs": [
    {
     "data": {
      "text/plain": [
       "NodeView(('izvestnyj_pisatel', 'ivan_semenych', 'milovidov', 'kutilo-zavaldajskij', 'knyaz_batog-batyev', 'libental', 'razorvaki'))"
      ]
     },
     "execution_count": 282,
     "metadata": {},
     "output_type": "execute_result"
    }
   ],
   "source": [
    "under_12_dict[\"prutkov-oprometchivyj-turka\"].nodes()"
   ]
  },
  {
   "cell_type": "code",
   "execution_count": 283,
   "metadata": {},
   "outputs": [],
   "source": [
    "play_graph_dict[\"prutkov-oprometchivyj-turka\"].nodes()[\"ivan_semenych\"][\"importance\"] = \"Lead\" \n",
    "play_graph_dict[\"prutkov-oprometchivyj-turka\"].nodes()[\"izvestnyj_pisatel\"][\"importance\"] = \"Episode\" \n",
    "play_graph_dict[\"prutkov-oprometchivyj-turka\"].nodes()[\"milovidov\"][\"importance\"] = \"Secondary\" \n",
    "play_graph_dict[\"prutkov-oprometchivyj-turka\"].nodes()[\"kutilo-zavaldajskij\"][\"importance\"] = \"Secondary\" \n",
    "play_graph_dict[\"prutkov-oprometchivyj-turka\"].nodes()[\"knyaz_batog-batyev\"][\"importance\"] = \"Secondary\" \n",
    "play_graph_dict[\"prutkov-oprometchivyj-turka\"].nodes()[\"libental\"][\"importance\"] = \"Secondary\" \n",
    "play_graph_dict[\"prutkov-oprometchivyj-turka\"].nodes()[\"razorvaki\"][\"importance\"] = \"Secondary\" "
   ]
  },
  {
   "cell_type": "code",
   "execution_count": 284,
   "metadata": {},
   "outputs": [],
   "source": [
    "dict_with_lead_markup[\"prutkov-oprometchivyj-turka\"] = play_graph_dict[\"prutkov-oprometchivyj-turka\"]"
   ]
  },
  {
   "cell_type": "code",
   "execution_count": 285,
   "metadata": {},
   "outputs": [],
   "source": [
    "#9 ostrovsky-prazdnichnyj-son-do-obeda"
   ]
  },
  {
   "cell_type": "code",
   "execution_count": 286,
   "metadata": {},
   "outputs": [
    {
     "data": {
      "text/plain": [
       "NodeView(('balzaminova', 'balzaminov', 'matrena', 'krasavina', 'nichkina', 'kapochka', 'ustinka', 'malanya', 'yusha', 'neuedenov'))"
      ]
     },
     "execution_count": 286,
     "metadata": {},
     "output_type": "execute_result"
    }
   ],
   "source": [
    "under_12_dict[\"ostrovsky-prazdnichnyj-son-do-obeda\"].nodes()"
   ]
  },
  {
   "cell_type": "code",
   "execution_count": 287,
   "metadata": {},
   "outputs": [],
   "source": [
    "play_graph_dict[\"ostrovsky-prazdnichnyj-son-do-obeda\"].nodes()[\"balzaminov\"][\"importance\"] = \"Lead\" \n",
    "play_graph_dict[\"ostrovsky-prazdnichnyj-son-do-obeda\"].nodes()[\"kapochka\"][\"importance\"] = \"Lead\" \n",
    "play_graph_dict[\"ostrovsky-prazdnichnyj-son-do-obeda\"].nodes()[\"balzaminova\"][\"importance\"] = \"Secondary\" \n",
    "play_graph_dict[\"ostrovsky-prazdnichnyj-son-do-obeda\"].nodes()[\"nichkina\"][\"importance\"] = \"Secondary\" \n",
    "play_graph_dict[\"ostrovsky-prazdnichnyj-son-do-obeda\"].nodes()[\"ustinka\"][\"importance\"] = \"Secondary\" \n",
    "play_graph_dict[\"ostrovsky-prazdnichnyj-son-do-obeda\"].nodes()[\"neuedenov\"][\"importance\"] = \"Secondary\" \n",
    "play_graph_dict[\"ostrovsky-prazdnichnyj-son-do-obeda\"].nodes()[\"neuedenov\"][\"importance\"] = \"Episode\" \n",
    "play_graph_dict[\"ostrovsky-prazdnichnyj-son-do-obeda\"].nodes()[\"matrena\"][\"importance\"] = \"Episode\" \n",
    "play_graph_dict[\"ostrovsky-prazdnichnyj-son-do-obeda\"].nodes()[\"malanya\"][\"importance\"] = \"Episode\" "
   ]
  },
  {
   "cell_type": "code",
   "execution_count": 288,
   "metadata": {},
   "outputs": [],
   "source": [
    "dict_with_lead_markup[\"ostrovsky-prazdnichnyj-son-do-obeda\"] = play_graph_dict[\"ostrovsky-prazdnichnyj-son-do-obeda\"]"
   ]
  },
  {
   "cell_type": "code",
   "execution_count": 289,
   "metadata": {},
   "outputs": [],
   "source": [
    "#10 khmelnitsky-vozdushnye-zamki"
   ]
  },
  {
   "cell_type": "code",
   "execution_count": 290,
   "metadata": {},
   "outputs": [
    {
     "data": {
      "text/plain": [
       "NodeView(('sasha', 'aglaeva', 'ipat', 'viktor', 'alnaskarov'))"
      ]
     },
     "execution_count": 290,
     "metadata": {},
     "output_type": "execute_result"
    }
   ],
   "source": [
    "under_12_dict[\"khmelnitsky-vozdushnye-zamki\"].nodes()"
   ]
  },
  {
   "cell_type": "code",
   "execution_count": 291,
   "metadata": {},
   "outputs": [],
   "source": [
    "play_graph_dict[\"khmelnitsky-vozdushnye-zamki\"].nodes()[\"sasha\"][\"importance\"] = \"Lead\" \n",
    "play_graph_dict[\"khmelnitsky-vozdushnye-zamki\"].nodes()[\"aglaeva\"][\"importance\"] = \"Lead\" \n",
    "play_graph_dict[\"khmelnitsky-vozdushnye-zamki\"].nodes()[\"alnaskarov\"][\"importance\"] = \"Lead\" \n",
    "play_graph_dict[\"khmelnitsky-vozdushnye-zamki\"].nodes()[\"viktor\"][\"importance\"] = \"Lead\" \n",
    "play_graph_dict[\"khmelnitsky-vozdushnye-zamki\"].nodes()[\"ipat\"][\"importance\"] = \"Secondary\" "
   ]
  },
  {
   "cell_type": "code",
   "execution_count": 292,
   "metadata": {},
   "outputs": [],
   "source": [
    "dict_with_lead_markup[\"khmelnitsky-vozdushnye-zamki\"] = play_graph_dict[\"khmelnitsky-vozdushnye-zamki\"]"
   ]
  },
  {
   "cell_type": "code",
   "execution_count": 293,
   "metadata": {},
   "outputs": [],
   "source": [
    "#11 chekhov-djadja-vanja"
   ]
  },
  {
   "cell_type": "code",
   "execution_count": 294,
   "metadata": {},
   "outputs": [
    {
     "data": {
      "text/plain": [
       "NodeView(('marina', 'astrov', 'vojnitskij', 'serebrjakov', 'telegin', 'sonja', 'elena_andreevna', 'marija_vasilevna', 'rabotnik', 'golos_storozha'))"
      ]
     },
     "execution_count": 294,
     "metadata": {},
     "output_type": "execute_result"
    }
   ],
   "source": [
    "under_12_dict[\"chekhov-djadja-vanja\"].nodes()"
   ]
  },
  {
   "cell_type": "code",
   "execution_count": 295,
   "metadata": {},
   "outputs": [],
   "source": [
    "play_graph_dict[\"chekhov-djadja-vanja\"].nodes()[\"vojnitskij\"][\"importance\"] = \"Lead\"  \n",
    "play_graph_dict[\"chekhov-djadja-vanja\"].nodes()[\"astrov\"][\"importance\"] = \"Lead\"  \n",
    "play_graph_dict[\"chekhov-djadja-vanja\"].nodes()[\"sonja\"][\"importance\"] = \"Lead\"  \n",
    "play_graph_dict[\"chekhov-djadja-vanja\"].nodes()[\"serebrjakov\"][\"importance\"] = \"Secondary\"  \n",
    "play_graph_dict[\"chekhov-djadja-vanja\"].nodes()[\"telegin\"][\"importance\"] = \"Secondary\"  \n",
    "play_graph_dict[\"chekhov-djadja-vanja\"].nodes()[\"elena_andreevna\"][\"importance\"] = \"Secondary\"  \n",
    "play_graph_dict[\"chekhov-djadja-vanja\"].nodes()[\"marija_vasilevna\"][\"importance\"] = \"Secondary\"  \n",
    "play_graph_dict[\"chekhov-djadja-vanja\"].nodes()[\"rabotnik\"][\"importance\"] = \"Episode\"  \n",
    "play_graph_dict[\"chekhov-djadja-vanja\"].nodes()[\"golos_storozha\"][\"importance\"] = \"Episode\"  "
   ]
  },
  {
   "cell_type": "code",
   "execution_count": 296,
   "metadata": {},
   "outputs": [],
   "source": [
    "dict_with_lead_markup[\"chekhov-djadja-vanja\"] = play_graph_dict[\"chekhov-djadja-vanja\"]"
   ]
  },
  {
   "cell_type": "code",
   "execution_count": 297,
   "metadata": {},
   "outputs": [],
   "source": [
    "#12 pushkin-skupoj-rytsar"
   ]
  },
  {
   "cell_type": "code",
   "execution_count": 298,
   "metadata": {},
   "outputs": [
    {
     "data": {
      "text/plain": [
       "NodeView(('Alber', 'Ivan', 'Zhid', 'Baron', 'Gertsog'))"
      ]
     },
     "execution_count": 298,
     "metadata": {},
     "output_type": "execute_result"
    }
   ],
   "source": [
    "under_12_dict[\"pushkin-skupoj-rytsar\"].nodes()"
   ]
  },
  {
   "cell_type": "code",
   "execution_count": 299,
   "metadata": {},
   "outputs": [],
   "source": [
    "play_graph_dict[\"pushkin-skupoj-rytsar\"].nodes()[\"Alber\"][\"importance\"] = \"Lead\"  \n",
    "play_graph_dict[\"pushkin-skupoj-rytsar\"].nodes()[\"Baron\"][\"importance\"] = \"Lead\"  \n",
    "play_graph_dict[\"pushkin-skupoj-rytsar\"].nodes()[\"Zhid\"][\"importance\"] = \"Secondary\"  \n",
    "play_graph_dict[\"pushkin-skupoj-rytsar\"].nodes()[\"Gertsog\"][\"importance\"] = \"Secondary\"  \n",
    "play_graph_dict[\"pushkin-skupoj-rytsar\"].nodes()[\"Ivan\"][\"importance\"] = \"Secondary\"  "
   ]
  },
  {
   "cell_type": "code",
   "execution_count": 300,
   "metadata": {},
   "outputs": [],
   "source": [
    "dict_with_lead_markup[\"pushkin-skupoj-rytsar\"] = play_graph_dict[\"pushkin-skupoj-rytsar\"]"
   ]
  },
  {
   "cell_type": "code",
   "execution_count": 301,
   "metadata": {},
   "outputs": [],
   "source": [
    "#13 turgenev-gde-tonko-tam-i-rvetsja"
   ]
  },
  {
   "cell_type": "code",
   "execution_count": 302,
   "metadata": {},
   "outputs": [
    {
     "data": {
      "text/plain": [
       "NodeView(('gorskij', 'muhin', 'mademoiselle_bienaime', 'vera', 'gospozha_libanova', 'varvara_ivanovna', 'dvoretskij', 'chuhanov', 'sluga', 'stanitsyn'))"
      ]
     },
     "execution_count": 302,
     "metadata": {},
     "output_type": "execute_result"
    }
   ],
   "source": [
    "under_12_dict[\"turgenev-gde-tonko-tam-i-rvetsja\"].nodes()"
   ]
  },
  {
   "cell_type": "code",
   "execution_count": 303,
   "metadata": {},
   "outputs": [],
   "source": [
    "play_graph_dict[\"turgenev-gde-tonko-tam-i-rvetsja\"].nodes()[\"gorskij\"][\"importance\"] = \"Lead\"  \n",
    "play_graph_dict[\"turgenev-gde-tonko-tam-i-rvetsja\"].nodes()[\"vera\"][\"importance\"] = \"Lead\"  \n",
    "play_graph_dict[\"turgenev-gde-tonko-tam-i-rvetsja\"].nodes()[\"stanitsyn\"][\"importance\"] = \"Lead\"  \n",
    "play_graph_dict[\"turgenev-gde-tonko-tam-i-rvetsja\"].nodes()[\"muhin\"][\"importance\"] = \"Secondary\"  \n",
    "play_graph_dict[\"turgenev-gde-tonko-tam-i-rvetsja\"].nodes()[\"mademoiselle_bienaime\"][\"importance\"] = \"Secondary\"\n",
    "play_graph_dict[\"turgenev-gde-tonko-tam-i-rvetsja\"].nodes()[\"gospozha_libanova\"][\"importance\"] = \"Secondary\"  \n",
    "play_graph_dict[\"turgenev-gde-tonko-tam-i-rvetsja\"].nodes()[\"varvara_ivanovna\"][\"importance\"] = \"Secondary\"  \n",
    "play_graph_dict[\"turgenev-gde-tonko-tam-i-rvetsja\"].nodes()[\"dvoretskij\"][\"importance\"] = \"Episode\"  \n",
    "play_graph_dict[\"turgenev-gde-tonko-tam-i-rvetsja\"].nodes()[\"sluga\"][\"importance\"] = \"Episode\"  \n",
    "play_graph_dict[\"turgenev-gde-tonko-tam-i-rvetsja\"].nodes()[\"chuhanov\"][\"importance\"] = \"Episode\"  "
   ]
  },
  {
   "cell_type": "code",
   "execution_count": 304,
   "metadata": {},
   "outputs": [],
   "source": [
    "dict_with_lead_markup[\"turgenev-gde-tonko-tam-i-rvetsja\"] = play_graph_dict[\"turgenev-gde-tonko-tam-i-rvetsja\"]"
   ]
  },
  {
   "cell_type": "code",
   "execution_count": 305,
   "metadata": {},
   "outputs": [],
   "source": [
    "#14 nikolev-samolyubivyj-stihotvorec"
   ]
  },
  {
   "cell_type": "code",
   "execution_count": 306,
   "metadata": {},
   "outputs": [
    {
     "data": {
      "text/plain": [
       "NodeView(('panfil', 'marina', 'milana', 'nadmen', 'modstrih', 'naborshchik', 'kruton', 'chesnodum'))"
      ]
     },
     "execution_count": 306,
     "metadata": {},
     "output_type": "execute_result"
    }
   ],
   "source": [
    "under_12_dict[\"nikolev-samolyubivyj-stihotvorec\"].nodes()"
   ]
  },
  {
   "cell_type": "code",
   "execution_count": 307,
   "metadata": {},
   "outputs": [],
   "source": [
    "play_graph_dict[\"nikolev-samolyubivyj-stihotvorec\"].nodes()[\"nadmen\"][\"importance\"] = \"Lead\"  \n",
    "play_graph_dict[\"nikolev-samolyubivyj-stihotvorec\"].nodes()[\"panfil\"][\"importance\"] = \"Secondary\"  \n",
    "play_graph_dict[\"nikolev-samolyubivyj-stihotvorec\"].nodes()[\"marina\"][\"importance\"] = \"Secondary\"  \n",
    "play_graph_dict[\"nikolev-samolyubivyj-stihotvorec\"].nodes()[\"milana\"][\"importance\"] = \"Secondary\"  \n",
    "play_graph_dict[\"nikolev-samolyubivyj-stihotvorec\"].nodes()[\"modstrih\"][\"importance\"] = \"Secondary\"\n",
    "play_graph_dict[\"nikolev-samolyubivyj-stihotvorec\"].nodes()[\"kruton\"][\"importance\"] = \"Secondary\"\n",
    "play_graph_dict[\"nikolev-samolyubivyj-stihotvorec\"].nodes()[\"chesnodum\"][\"importance\"] = \"Secondary\" \n",
    "play_graph_dict[\"nikolev-samolyubivyj-stihotvorec\"].nodes()[\"naborshchik\"][\"importance\"] = \"Episode\""
   ]
  },
  {
   "cell_type": "code",
   "execution_count": 308,
   "metadata": {},
   "outputs": [],
   "source": [
    "dict_with_lead_markup[\"nikolev-samolyubivyj-stihotvorec\"] = play_graph_dict[\"nikolev-samolyubivyj-stihotvorec\"]"
   ]
  },
  {
   "cell_type": "code",
   "execution_count": 309,
   "metadata": {},
   "outputs": [],
   "source": [
    "#15 sumarokov-rogonosets-po-voobrazheniju"
   ]
  },
  {
   "cell_type": "code",
   "execution_count": 310,
   "metadata": {},
   "outputs": [
    {
     "data": {
      "text/plain": [
       "NodeView(('nisa', 'eger', 'vikul', 'havronja', 'dvoretskij', 'floriza', 'kasandr'))"
      ]
     },
     "execution_count": 310,
     "metadata": {},
     "output_type": "execute_result"
    }
   ],
   "source": [
    "under_12_dict[\"sumarokov-rogonosets-po-voobrazheniju\"].nodes()"
   ]
  },
  {
   "cell_type": "code",
   "execution_count": 311,
   "metadata": {},
   "outputs": [],
   "source": [
    "play_graph_dict[\"sumarokov-rogonosets-po-voobrazheniju\"].nodes()[\"havronja\"][\"importance\"] = \"Lead\"  \n",
    "play_graph_dict[\"sumarokov-rogonosets-po-voobrazheniju\"].nodes()[\"vikul\"][\"importance\"] = \"Lead\"  \n",
    "play_graph_dict[\"sumarokov-rogonosets-po-voobrazheniju\"].nodes()[\"nisa\"][\"importance\"] = \"Secondary\"  \n",
    "play_graph_dict[\"sumarokov-rogonosets-po-voobrazheniju\"].nodes()[\"eger\"][\"importance\"] = \"Secondary\"  \n",
    "play_graph_dict[\"sumarokov-rogonosets-po-voobrazheniju\"].nodes()[\"dvoretskij\"][\"importance\"] = \"Secondary\"  \n",
    "play_graph_dict[\"sumarokov-rogonosets-po-voobrazheniju\"].nodes()[\"floriza\"][\"importance\"] = \"Secondary\"  \n",
    "play_graph_dict[\"sumarokov-rogonosets-po-voobrazheniju\"].nodes()[\"kasandr\"][\"importance\"] = \"Secondary\"  "
   ]
  },
  {
   "cell_type": "code",
   "execution_count": 312,
   "metadata": {},
   "outputs": [],
   "source": [
    "dict_with_lead_markup[\"sumarokov-rogonosets-po-voobrazheniju\"] = play_graph_dict[\"sumarokov-rogonosets-po-voobrazheniju\"]"
   ]
  },
  {
   "cell_type": "code",
   "execution_count": 313,
   "metadata": {},
   "outputs": [],
   "source": [
    "#16 ostrovsky-neozhidannyj-sluchaj"
   ]
  },
  {
   "cell_type": "code",
   "execution_count": 314,
   "metadata": {},
   "outputs": [
    {
     "data": {
      "text/plain": [
       "NodeView(('rozovyj', 'druzhnin', 'sofya_antonovna', 'masha'))"
      ]
     },
     "execution_count": 314,
     "metadata": {},
     "output_type": "execute_result"
    }
   ],
   "source": [
    "under_12_dict[\"ostrovsky-neozhidannyj-sluchaj\"].nodes()"
   ]
  },
  {
   "cell_type": "code",
   "execution_count": 315,
   "metadata": {},
   "outputs": [],
   "source": [
    "play_graph_dict[\"ostrovsky-neozhidannyj-sluchaj\"].nodes()[\"rozovyj\"][\"importance\"] = \"Lead\"  \n",
    "play_graph_dict[\"ostrovsky-neozhidannyj-sluchaj\"].nodes()[\"druzhnin\"][\"importance\"] = \"Lead\"  \n",
    "play_graph_dict[\"ostrovsky-neozhidannyj-sluchaj\"].nodes()[\"sofya_antonovna\"][\"importance\"] = \"Secondary\"  \n",
    "play_graph_dict[\"ostrovsky-neozhidannyj-sluchaj\"].nodes()[\"masha\"][\"importance\"] = \"Episode\"  "
   ]
  },
  {
   "cell_type": "code",
   "execution_count": 316,
   "metadata": {},
   "outputs": [],
   "source": [
    "dict_with_lead_markup[\"ostrovsky-neozhidannyj-sluchaj\"] = play_graph_dict[\"ostrovsky-neozhidannyj-sluchaj\"]"
   ]
  },
  {
   "cell_type": "code",
   "execution_count": 317,
   "metadata": {},
   "outputs": [],
   "source": [
    "#17 gogol-igroki"
   ]
  },
  {
   "cell_type": "code",
   "execution_count": 318,
   "metadata": {},
   "outputs": [
    {
     "data": {
      "text/plain": [
       "NodeView(('aleksej', 'iharev', 'gavrjushka', 'krugel', 'shvohnev', 'uteshitelnyj', 'mihail_aleksandrovich_glov', 'aleksandr_mihalych_glov', 'zamuhryshkin'))"
      ]
     },
     "execution_count": 318,
     "metadata": {},
     "output_type": "execute_result"
    }
   ],
   "source": [
    "under_12_dict[\"gogol-igroki\"].nodes()"
   ]
  },
  {
   "cell_type": "code",
   "execution_count": 319,
   "metadata": {},
   "outputs": [],
   "source": [
    "play_graph_dict[\"gogol-igroki\"].nodes()[\"iharev\"][\"importance\"] = \"Lead\"  \n",
    "play_graph_dict[\"gogol-igroki\"].nodes()[\"krugel\"][\"importance\"] = \"Secondary\"  \n",
    "play_graph_dict[\"gogol-igroki\"].nodes()[\"shvohnev\"][\"importance\"] = \"Secondary\"  \n",
    "play_graph_dict[\"gogol-igroki\"].nodes()[\"uteshitelnyj\"][\"importance\"] = \"Secondary\"  \n",
    "play_graph_dict[\"gogol-igroki\"].nodes()[\"mihail_aleksandrovich_glov\"][\"importance\"] = \"Secondary\"  \n",
    "play_graph_dict[\"gogol-igroki\"].nodes()[\"aleksandr_mihalych_glov\"][\"importance\"] = \"Secondary\"  \n",
    "play_graph_dict[\"gogol-igroki\"].nodes()[\"zamuhryshkin\"][\"importance\"] = \"Episode\"  \n",
    "play_graph_dict[\"gogol-igroki\"].nodes()[\"gavrjushka\"][\"importance\"] = \"Episode\"  \n",
    "play_graph_dict[\"gogol-igroki\"].nodes()[\"aleksej\"][\"importance\"] = \"Episode\"  "
   ]
  },
  {
   "cell_type": "code",
   "execution_count": 320,
   "metadata": {},
   "outputs": [],
   "source": [
    "dict_with_lead_markup[\"gogol-igroki\"] = play_graph_dict[\"gogol-igroki\"]"
   ]
  },
  {
   "cell_type": "code",
   "execution_count": 321,
   "metadata": {},
   "outputs": [],
   "source": [
    "#18 pushkin-kamenniy-gost"
   ]
  },
  {
   "cell_type": "code",
   "execution_count": 322,
   "metadata": {},
   "outputs": [
    {
     "data": {
      "text/plain": [
       "NodeView(('don_guan', 'leporello', 'monah', 'dona_anna', 'pervyj_gost', 'vtoroj_gost', 'tretij_gost', 'laura', 'don_karlos', 'gost', 'statuja'))"
      ]
     },
     "execution_count": 322,
     "metadata": {},
     "output_type": "execute_result"
    }
   ],
   "source": [
    "under_12_dict[\"pushkin-kamenniy-gost\"].nodes()"
   ]
  },
  {
   "cell_type": "code",
   "execution_count": 323,
   "metadata": {},
   "outputs": [],
   "source": [
    "play_graph_dict[\"pushkin-kamenniy-gost\"].nodes()[\"don_guan\"][\"importance\"] = \"Lead\" \n",
    "play_graph_dict[\"pushkin-kamenniy-gost\"].nodes()[\"leporello\"][\"importance\"] = \"Secondary\"   \n",
    "play_graph_dict[\"pushkin-kamenniy-gost\"].nodes()[\"dona_anna\"][\"importance\"] = \"Secondary\"   \n",
    "play_graph_dict[\"pushkin-kamenniy-gost\"].nodes()[\"laura\"][\"importance\"] = \"Secondary\"   \n",
    "play_graph_dict[\"pushkin-kamenniy-gost\"].nodes()[\"don_karlos\"][\"importance\"] = \"Secondary\"   \n",
    "play_graph_dict[\"pushkin-kamenniy-gost\"].nodes()[\"statuja\"][\"importance\"] = \"Secondary\"   \n",
    "play_graph_dict[\"pushkin-kamenniy-gost\"].nodes()[\"gost\"][\"importance\"] = \"Episode\"   \n",
    "play_graph_dict[\"pushkin-kamenniy-gost\"].nodes()[\"monah\"][\"importance\"] = \"Episode\"   \n",
    "play_graph_dict[\"pushkin-kamenniy-gost\"].nodes()[\"pervyj_gost\"][\"importance\"] = \"Episode\"   \n",
    "play_graph_dict[\"pushkin-kamenniy-gost\"].nodes()[\"vtoroj_gost\"][\"importance\"] = \"Episode\"   \n",
    "play_graph_dict[\"pushkin-kamenniy-gost\"].nodes()[\"tretij_gost\"][\"importance\"] = \"Episode\"   "
   ]
  },
  {
   "cell_type": "code",
   "execution_count": 324,
   "metadata": {},
   "outputs": [],
   "source": [
    "dict_with_lead_markup[\"pushkin-kamenniy-gost\"] = play_graph_dict[\"pushkin-kamenniy-gost\"]"
   ]
  },
  {
   "cell_type": "code",
   "execution_count": 325,
   "metadata": {},
   "outputs": [],
   "source": [
    "#19 ostrovsky-semejnaya-kartina"
   ]
  },
  {
   "cell_type": "code",
   "execution_count": 326,
   "metadata": {},
   "outputs": [
    {
     "data": {
      "text/plain": [
       "NodeView(('marya_antipovna', 'matrena_savishna', 'darya', 'antip_antipych', 'stepanida_trofimovna', 'shiryalov'))"
      ]
     },
     "execution_count": 326,
     "metadata": {},
     "output_type": "execute_result"
    }
   ],
   "source": [
    "under_12_dict[\"ostrovsky-semejnaya-kartina\"].nodes()"
   ]
  },
  {
   "cell_type": "code",
   "execution_count": 327,
   "metadata": {},
   "outputs": [],
   "source": [
    "play_graph_dict[\"ostrovsky-semejnaya-kartina\"].nodes()[\"antip_antipych\"][\"importance\"] = \"Lead\" \n",
    "play_graph_dict[\"ostrovsky-semejnaya-kartina\"].nodes()[\"marya_antipovna\"][\"importance\"] = \"Secondary\"   \n",
    "play_graph_dict[\"ostrovsky-semejnaya-kartina\"].nodes()[\"matrena_savishna\"][\"importance\"] = \"Secondary\" \n",
    "play_graph_dict[\"ostrovsky-semejnaya-kartina\"].nodes()[\"stepanida_trofimovna\"][\"importance\"] = \"Secondary\" \n",
    "play_graph_dict[\"ostrovsky-semejnaya-kartina\"].nodes()[\"shiryalov\"][\"importance\"] = \"Secondary\" \n",
    "play_graph_dict[\"ostrovsky-semejnaya-kartina\"].nodes()[\"darya\"][\"importance\"] = \"Episode\"    "
   ]
  },
  {
   "cell_type": "code",
   "execution_count": 328,
   "metadata": {},
   "outputs": [],
   "source": [
    "dict_with_lead_markup[\"ostrovsky-semejnaya-kartina\"] = play_graph_dict[\"ostrovsky-semejnaya-kartina\"]"
   ]
  },
  {
   "cell_type": "code",
   "execution_count": 329,
   "metadata": {},
   "outputs": [],
   "source": [
    "#20 pushkin-pir-vo-vremja-chumy"
   ]
  },
  {
   "cell_type": "code",
   "execution_count": 330,
   "metadata": {},
   "outputs": [
    {
     "data": {
      "text/plain": [
       "NodeView(('MolodojChelovek', 'Predsedatel', 'Meri', 'Luiza', 'Mnogie', 'Svjaschennik', 'ZhenskijGolos'))"
      ]
     },
     "execution_count": 330,
     "metadata": {},
     "output_type": "execute_result"
    }
   ],
   "source": [
    "under_12_dict[\"pushkin-pir-vo-vremja-chumy\"].nodes()"
   ]
  },
  {
   "cell_type": "code",
   "execution_count": 331,
   "metadata": {},
   "outputs": [],
   "source": [
    "play_graph_dict[\"pushkin-pir-vo-vremja-chumy\"].nodes()[\"MolodojChelovek\"][\"importance\"] = \"Lead\" \n",
    "play_graph_dict[\"pushkin-pir-vo-vremja-chumy\"].nodes()[\"Predsedatel\"][\"importance\"] = \"Lead\"   \n",
    "play_graph_dict[\"pushkin-pir-vo-vremja-chumy\"].nodes()[\"Meri\"][\"importance\"] = \"Lead\" \n",
    "play_graph_dict[\"pushkin-pir-vo-vremja-chumy\"].nodes()[\"Luiza\"][\"importance\"] = \"Lead\" \n",
    "play_graph_dict[\"pushkin-pir-vo-vremja-chumy\"].nodes()[\"Svjaschennik\"][\"importance\"] = \"Lead\"  \n",
    "play_graph_dict[\"pushkin-pir-vo-vremja-chumy\"].nodes()[\"Mnogie\"][\"importance\"] = \"Group\" \n",
    "play_graph_dict[\"pushkin-pir-vo-vremja-chumy\"].nodes()[\"ZhenskijGolos\"][\"importance\"] = \"Episode\"    "
   ]
  },
  {
   "cell_type": "code",
   "execution_count": 332,
   "metadata": {},
   "outputs": [],
   "source": [
    "dict_with_lead_markup[\"pushkin-pir-vo-vremja-chumy\"] = play_graph_dict[\"pushkin-pir-vo-vremja-chumy\"]"
   ]
  },
  {
   "cell_type": "code",
   "execution_count": 333,
   "metadata": {},
   "outputs": [],
   "source": [
    "#21 knyazhnin-traur"
   ]
  },
  {
   "cell_type": "code",
   "execution_count": 334,
   "metadata": {},
   "outputs": [
    {
     "data": {
      "text/plain": [
       "NodeView(('evdokim', 'vetran', 'karachun', 'postan', 'milena', 'izabella'))"
      ]
     },
     "execution_count": 334,
     "metadata": {},
     "output_type": "execute_result"
    }
   ],
   "source": [
    "under_12_dict[\"knyazhnin-traur\"].nodes()"
   ]
  },
  {
   "cell_type": "code",
   "execution_count": 335,
   "metadata": {},
   "outputs": [],
   "source": [
    "play_graph_dict[\"knyazhnin-traur\"].nodes()[\"vetran\"][\"importance\"] = \"Lead\" \n",
    "play_graph_dict[\"knyazhnin-traur\"].nodes()[\"evdokim\"][\"importance\"] = \"Secondary\" \n",
    "play_graph_dict[\"knyazhnin-traur\"].nodes()[\"karachun\"][\"importance\"] = \"Secondary\" \n",
    "play_graph_dict[\"knyazhnin-traur\"].nodes()[\"postan\"][\"importance\"] = \"Secondary\" \n",
    "play_graph_dict[\"knyazhnin-traur\"].nodes()[\"milena\"][\"importance\"] = \"Secondary\" \n",
    "play_graph_dict[\"knyazhnin-traur\"].nodes()[\"izabella\"][\"importance\"] = \"Secondary\" "
   ]
  },
  {
   "cell_type": "code",
   "execution_count": 336,
   "metadata": {},
   "outputs": [],
   "source": [
    "dict_with_lead_markup[\"knyazhnin-traur\"] = play_graph_dict[\"knyazhnin-traur\"]"
   ]
  },
  {
   "cell_type": "code",
   "execution_count": 337,
   "metadata": {},
   "outputs": [],
   "source": [
    "#22 knyazhnin-rosslav"
   ]
  },
  {
   "cell_type": "code",
   "execution_count": 338,
   "metadata": {},
   "outputs": [
    {
     "data": {
      "text/plain": [
       "NodeView(('adel', 'kedar', 'rosslav', 'zafira', 'lyubomir', 'hristiern'))"
      ]
     },
     "execution_count": 338,
     "metadata": {},
     "output_type": "execute_result"
    }
   ],
   "source": [
    "under_12_dict[\"knyazhnin-rosslav\"].nodes()"
   ]
  },
  {
   "cell_type": "code",
   "execution_count": 339,
   "metadata": {},
   "outputs": [],
   "source": [
    "play_graph_dict[\"knyazhnin-rosslav\"].nodes()[\"kedar\"][\"importance\"] = \"Lead\" \n",
    "play_graph_dict[\"knyazhnin-rosslav\"].nodes()[\"rosslav\"][\"importance\"] = \"Lead\" \n",
    "play_graph_dict[\"knyazhnin-rosslav\"].nodes()[\"zafira\"][\"importance\"] = \"Lead\" \n",
    "play_graph_dict[\"knyazhnin-rosslav\"].nodes()[\"lyubomir\"][\"importance\"] = \"Secondary\" \n",
    "play_graph_dict[\"knyazhnin-rosslav\"].nodes()[\"hristiern\"][\"importance\"] = \"Secondary\" \n",
    "play_graph_dict[\"knyazhnin-rosslav\"].nodes()[\"adel\"][\"importance\"] = \"Secondary\" "
   ]
  },
  {
   "cell_type": "code",
   "execution_count": 340,
   "metadata": {},
   "outputs": [],
   "source": [
    "dict_with_lead_markup[\"knyazhnin-rosslav\"] = play_graph_dict[\"knyazhnin-rosslav\"]"
   ]
  },
  {
   "cell_type": "code",
   "execution_count": 341,
   "metadata": {},
   "outputs": [],
   "source": [
    "#23 khmelnitsky-svetskiy-sluchay"
   ]
  },
  {
   "cell_type": "code",
   "execution_count": 342,
   "metadata": {},
   "outputs": [
    {
     "data": {
      "text/plain": [
       "NodeView(('evgeniya', 'dasha', 'radugin', 'stolicyn', 'ramirskij', 'evgenij'))"
      ]
     },
     "execution_count": 342,
     "metadata": {},
     "output_type": "execute_result"
    }
   ],
   "source": [
    "under_12_dict[\"khmelnitsky-svetskiy-sluchay\"].nodes()"
   ]
  },
  {
   "cell_type": "code",
   "execution_count": 343,
   "metadata": {},
   "outputs": [],
   "source": [
    "play_graph_dict[\"khmelnitsky-svetskiy-sluchay\"].nodes()[\"stolicyn\"][\"importance\"] = \"Lead\" \n",
    "play_graph_dict[\"khmelnitsky-svetskiy-sluchay\"].nodes()[\"evgeniya\"][\"importance\"] = \"Lead\" \n",
    "play_graph_dict[\"khmelnitsky-svetskiy-sluchay\"].nodes()[\"ramirskij\"][\"importance\"] = \"Lead\" \n",
    "play_graph_dict[\"khmelnitsky-svetskiy-sluchay\"].nodes()[\"dasha\"][\"importance\"] = \"Secondary\" \n",
    "play_graph_dict[\"khmelnitsky-svetskiy-sluchay\"].nodes()[\"radugin\"][\"importance\"] = \"Secondary\"\n",
    "play_graph_dict[\"khmelnitsky-svetskiy-sluchay\"].nodes()[\"evgenij\"][\"importance\"] = \"Secondary\" "
   ]
  },
  {
   "cell_type": "code",
   "execution_count": 344,
   "metadata": {},
   "outputs": [],
   "source": [
    "dict_with_lead_markup[\"khmelnitsky-svetskiy-sluchay\"] = play_graph_dict[\"khmelnitsky-svetskiy-sluchay\"]"
   ]
  },
  {
   "cell_type": "code",
   "execution_count": 345,
   "metadata": {},
   "outputs": [],
   "source": [
    "#24 ostrovsky-tyazhelye-dni"
   ]
  },
  {
   "cell_type": "code",
   "execution_count": 346,
   "metadata": {},
   "outputs": [
    {
     "data": {
      "text/plain": [
       "NodeView(('molodoj_chelovek', 'dosuzhev', 'percov', 'andrej_titych', 'aleksandra_petrovna', 'lusha', 'natalya_nikanorovna', 'nastasya_pankratevna', 'mudrov', 'tit_titych', 'neizvestnyj'))"
      ]
     },
     "execution_count": 346,
     "metadata": {},
     "output_type": "execute_result"
    }
   ],
   "source": [
    "under_12_dict[\"ostrovsky-tyazhelye-dni\"].nodes()"
   ]
  },
  {
   "cell_type": "code",
   "execution_count": 347,
   "metadata": {},
   "outputs": [],
   "source": [
    "play_graph_dict[\"ostrovsky-tyazhelye-dni\"].nodes()[\"andrej_titych\"][\"importance\"] = \"Lead\" \n",
    "play_graph_dict[\"ostrovsky-tyazhelye-dni\"].nodes()[\"dosuzhev\"][\"importance\"] = \"Secondary\" \n",
    "play_graph_dict[\"ostrovsky-tyazhelye-dni\"].nodes()[\"aleksandra_petrovna\"][\"importabce\"] = \"Secondary\" \n",
    "play_graph_dict[\"ostrovsky-tyazhelye-dni\"].nodes()[\"percov\"][\"importance\"] = \"Secondary\"  \n",
    "play_graph_dict[\"ostrovsky-tyazhelye-dni\"].nodes()[\"natalya_nikanorovna\"][\"importance\"] = \"Secondary\" \n",
    "play_graph_dict[\"ostrovsky-tyazhelye-dni\"].nodes()[\"nastasya_pankratevna\"][\"importance\"] = \"Secondary\" \n",
    "play_graph_dict[\"ostrovsky-tyazhelye-dni\"].nodes()[\"mudrov\"][\"importance\"] = \"Secondary\" \n",
    "play_graph_dict[\"ostrovsky-tyazhelye-dni\"].nodes()[\"tit_titych\"][\"importance\"] = \"Secondary\" \n",
    "play_graph_dict[\"ostrovsky-tyazhelye-dni\"].nodes()[\"neizvestnyj\"][\"importance\"] = \"Episode\" \n",
    "play_graph_dict[\"ostrovsky-tyazhelye-dni\"].nodes()[\"molodoj_chelovek\"][\"importance\"] = \"Episode\" \n",
    "play_graph_dict[\"ostrovsky-tyazhelye-dni\"].nodes()[\"lusha\"][\"importance\"] = \"Episode\" "
   ]
  },
  {
   "cell_type": "code",
   "execution_count": 348,
   "metadata": {},
   "outputs": [],
   "source": [
    "dict_with_lead_markup[\"ostrovsky-tyazhelye-dni\"] = play_graph_dict[\"ostrovsky-tyazhelye-dni\"]"
   ]
  },
  {
   "cell_type": "code",
   "execution_count": 349,
   "metadata": {},
   "outputs": [],
   "source": [
    "#25 sumarokov-sinav-i-truvor"
   ]
  },
  {
   "cell_type": "code",
   "execution_count": 350,
   "metadata": {},
   "outputs": [
    {
     "data": {
      "text/plain": [
       "NodeView(('gostomysl', 'ilmena', 'sinav', 'truvor', 'pazh', 'vestnik'))"
      ]
     },
     "execution_count": 350,
     "metadata": {},
     "output_type": "execute_result"
    }
   ],
   "source": [
    "under_12_dict[\"sumarokov-sinav-i-truvor\"].nodes()"
   ]
  },
  {
   "cell_type": "code",
   "execution_count": 351,
   "metadata": {},
   "outputs": [],
   "source": [
    "play_graph_dict[\"sumarokov-sinav-i-truvor\"].nodes()[\"gostomysl\"][\"importance\"] = \"Lead\" \n",
    "play_graph_dict[\"sumarokov-sinav-i-truvor\"].nodes()[\"ilmena\"][\"importance\"] = \"Lead\" \n",
    "play_graph_dict[\"sumarokov-sinav-i-truvor\"].nodes()[\"sinav\"][\"importabce\"] = \"Lead\" \n",
    "play_graph_dict[\"sumarokov-sinav-i-truvor\"].nodes()[\"truvor\"][\"importance\"] = \"Lead\"  \n",
    "play_graph_dict[\"sumarokov-sinav-i-truvor\"].nodes()[\"pazh\"][\"importance\"] = \"Episode\" \n",
    "play_graph_dict[\"sumarokov-sinav-i-truvor\"].nodes()[\"vestnik\"][\"importance\"] = \"Episode\" "
   ]
  },
  {
   "cell_type": "code",
   "execution_count": 352,
   "metadata": {},
   "outputs": [],
   "source": [
    "dict_with_lead_markup[\"sumarokov-sinav-i-truvor\"] = play_graph_dict[\"sumarokov-sinav-i-truvor\"]"
   ]
  },
  {
   "cell_type": "code",
   "execution_count": 353,
   "metadata": {},
   "outputs": [],
   "source": [
    "#26 kropotov-fomushka"
   ]
  },
  {
   "cell_type": "code",
   "execution_count": 354,
   "metadata": {},
   "outputs": [
    {
     "data": {
      "text/plain": [
       "NodeView(('mitrofan', 'havronia', 'karpovich', 'foma', 'marina', 'graf', 'dobrovidov', 'ostromyslov', 'malania', 'notarius'))"
      ]
     },
     "execution_count": 354,
     "metadata": {},
     "output_type": "execute_result"
    }
   ],
   "source": [
    "under_12_dict[\"kropotov-fomushka\"].nodes()"
   ]
  },
  {
   "cell_type": "code",
   "execution_count": 355,
   "metadata": {},
   "outputs": [],
   "source": [
    "play_graph_dict[\"kropotov-fomushka\"].nodes()[\"havronia\"][\"importance\"] = \"Lead\"  \n",
    "play_graph_dict[\"kropotov-fomushka\"].nodes()[\"foma\"][\"importance\"] = \"Lead\"  \n",
    "play_graph_dict[\"kropotov-fomushka\"].nodes()[\"graf\"][\"importance\"] = \"Lead\"  \n",
    "play_graph_dict[\"kropotov-fomushka\"].nodes()[\"ostromyslov\"][\"importance\"] = \"Lead\"  \n",
    "play_graph_dict[\"kropotov-fomushka\"].nodes()[\"dobrovidov\"][\"importance\"] = \"Lead\"  \n",
    "play_graph_dict[\"kropotov-fomushka\"].nodes()[\"malania\"][\"importance\"] = \"Secondary\"  \n",
    "play_graph_dict[\"kropotov-fomushka\"].nodes()[\"marina\"][\"importance\"] = \"Secondary\"  \n",
    "play_graph_dict[\"kropotov-fomushka\"].nodes()[\"karpovich\"][\"importance\"] = \"Secondary\"  \n",
    "play_graph_dict[\"kropotov-fomushka\"].nodes()[\"notarius\"][\"importance\"] = \"Episode\"  \n",
    "play_graph_dict[\"kropotov-fomushka\"].nodes()[\"mitrofan\"][\"importance\"] = \"Episode\"  "
   ]
  },
  {
   "cell_type": "code",
   "execution_count": 356,
   "metadata": {},
   "outputs": [],
   "source": [
    "dict_with_lead_markup[\"kropotov-fomushka\"] = play_graph_dict[\"kropotov-fomushka\"]"
   ]
  },
  {
   "cell_type": "code",
   "execution_count": 357,
   "metadata": {},
   "outputs": [],
   "source": [
    "#27 ostrovsky-utro-molodogo-cheloveka"
   ]
  },
  {
   "cell_type": "code",
   "execution_count": 358,
   "metadata": {},
   "outputs": [
    {
     "data": {
      "text/plain": [
       "NodeView(('ivan', 'sidorych', 'grishka', 'lisavskij', 'vtoroj_molodoj_chelovek', 'pervyj_molodoj_chelovek', 'nedopekin', 'smurov', 'vasya'))"
      ]
     },
     "execution_count": 358,
     "metadata": {},
     "output_type": "execute_result"
    }
   ],
   "source": [
    "under_12_dict[\"ostrovsky-utro-molodogo-cheloveka\"].nodes()"
   ]
  },
  {
   "cell_type": "code",
   "execution_count": 359,
   "metadata": {},
   "outputs": [],
   "source": [
    "play_graph_dict[\"ostrovsky-utro-molodogo-cheloveka\"].nodes()[\"lisavskij\"][\"importance\"] = \"Lead\"  \n",
    "play_graph_dict[\"ostrovsky-utro-molodogo-cheloveka\"].nodes()[\"nedopekin\"][\"importance\"] = \"Lead\"  \n",
    "play_graph_dict[\"ostrovsky-utro-molodogo-cheloveka\"].nodes()[\"ivan\"][\"importance\"] = \"Secondary\"  \n",
    "play_graph_dict[\"ostrovsky-utro-molodogo-cheloveka\"].nodes()[\"vtoroj_molodoj_chelovek\"][\"importance\"] = \"Secondary\" \n",
    "play_graph_dict[\"ostrovsky-utro-molodogo-cheloveka\"].nodes()[\"smurov\"][\"importance\"] = \"Secondary\"  \n",
    "play_graph_dict[\"ostrovsky-utro-molodogo-cheloveka\"].nodes()[\"pervyj_molodoj_chelovek\"][\"importance\"] = \"Secondary\" \n",
    "play_graph_dict[\"ostrovsky-utro-molodogo-cheloveka\"].nodes()[\"vasya\"][\"importance\"] = \"Episode\"  \n",
    "play_graph_dict[\"ostrovsky-utro-molodogo-cheloveka\"].nodes()[\"sidorych\"][\"importance\"] = \"Episode\"  \n",
    "play_graph_dict[\"ostrovsky-utro-molodogo-cheloveka\"].nodes()[\"grishka\"][\"importance\"] = \"Episode\"  "
   ]
  },
  {
   "cell_type": "code",
   "execution_count": 360,
   "metadata": {},
   "outputs": [],
   "source": [
    "dict_with_lead_markup[\"ostrovsky-utro-molodogo-cheloveka\"] = play_graph_dict[\"ostrovsky-utro-molodogo-cheloveka\"]"
   ]
  },
  {
   "cell_type": "code",
   "execution_count": 361,
   "metadata": {},
   "outputs": [],
   "source": [
    "#28 krylov-pirog"
   ]
  },
  {
   "cell_type": "code",
   "execution_count": 362,
   "metadata": {},
   "outputs": [
    {
     "data": {
      "text/plain": [
       "NodeView(('vanka', 'muzhik', 'dasha', 'fatyuev', 'uzhima', 'prelesta', 'milon', 'vspyshkin', 'potap'))"
      ]
     },
     "execution_count": 362,
     "metadata": {},
     "output_type": "execute_result"
    }
   ],
   "source": [
    "under_12_dict[\"krylov-pirog\"].nodes()"
   ]
  },
  {
   "cell_type": "code",
   "execution_count": 363,
   "metadata": {},
   "outputs": [],
   "source": [
    "play_graph_dict[\"krylov-pirog\"].nodes()[\"vspyshkin\"][\"importance\"] = \"Lead\"\n",
    "play_graph_dict[\"krylov-pirog\"].nodes()[\"uzhima\"][\"importance\"] = \"Lead\"\n",
    "play_graph_dict[\"krylov-pirog\"].nodes()[\"vanka\"][\"importance\"] = \"Secondary\"\n",
    "play_graph_dict[\"krylov-pirog\"].nodes()[\"fatyuev\"][\"importance\"] = \"Secondary\"\n",
    "play_graph_dict[\"krylov-pirog\"].nodes()[\"dasha\"][\"importance\"] = \"Secondary\"\n",
    "play_graph_dict[\"krylov-pirog\"].nodes()[\"prelesta\"][\"importance\"] = \"Secondary\" \n",
    "play_graph_dict[\"krylov-pirog\"].nodes()[\"milon\"][\"importance\"] = \"Secondary\"\n",
    "play_graph_dict[\"krylov-pirog\"].nodes()[\"potap\"][\"importance\"] = \"Episode\"\n",
    "play_graph_dict[\"krylov-pirog\"].nodes()[\"muzhik\"][\"importance\"] = \"Episode\""
   ]
  },
  {
   "cell_type": "code",
   "execution_count": 364,
   "metadata": {},
   "outputs": [],
   "source": [
    "dict_with_lead_markup[\"krylov-pirog\"] = play_graph_dict[\"krylov-pirog\"]"
   ]
  },
  {
   "cell_type": "code",
   "execution_count": 365,
   "metadata": {},
   "outputs": [],
   "source": [
    "#29 knyazhnin-hvastun"
   ]
  },
  {
   "cell_type": "code",
   "execution_count": 366,
   "metadata": {},
   "outputs": [
    {
     "data": {
      "text/plain": [
       "NodeView(('polist', 'prostodum', 'portnoj', 'verholet', 'marina', 'chvankina', 'milena', 'prikazchik', 'zamir', 'cheston', 'blagochinnyj'))"
      ]
     },
     "execution_count": 366,
     "metadata": {},
     "output_type": "execute_result"
    }
   ],
   "source": [
    "under_12_dict[\"knyazhnin-hvastun\"].nodes()"
   ]
  },
  {
   "cell_type": "code",
   "execution_count": 367,
   "metadata": {},
   "outputs": [],
   "source": [
    "play_graph_dict[\"knyazhnin-hvastun\"].nodes()[\"verholet\"][\"importance\"] = \"Lead\"\n",
    "play_graph_dict[\"knyazhnin-hvastun\"].nodes()[\"polist\"][\"importance\"] = \"Lead\"\n",
    "play_graph_dict[\"knyazhnin-hvastun\"].nodes()[\"prostodum\"][\"importance\"] = \"Secondary\"\n",
    "play_graph_dict[\"knyazhnin-hvastun\"].nodes()[\"marina\"][\"importance\"] = \"Secondary\"\n",
    "play_graph_dict[\"knyazhnin-hvastun\"].nodes()[\"chvankina\"][\"importance\"] = \"Secondary\"\n",
    "play_graph_dict[\"knyazhnin-hvastun\"].nodes()[\"milena\"][\"importance\"] = \"Secondary\"\n",
    "play_graph_dict[\"knyazhnin-hvastun\"].nodes()[\"zamir\"][\"importance\"] = \"Secondary\"\n",
    "play_graph_dict[\"knyazhnin-hvastun\"].nodes()[\"cheston\"][\"importance\"] = \"Secondary\"\n",
    "play_graph_dict[\"knyazhnin-hvastun\"].nodes()[\"blagochinnyj\"][\"importance\"] = \"Episode\"\n",
    "play_graph_dict[\"knyazhnin-hvastun\"].nodes()[\"prikazchik\"][\"importance\"] = \"Episode\"\n",
    "play_graph_dict[\"knyazhnin-hvastun\"].nodes()[\"portnoj\"][\"importance\"] = \"Episode\""
   ]
  },
  {
   "cell_type": "code",
   "execution_count": 368,
   "metadata": {},
   "outputs": [],
   "source": [
    "dict_with_lead_markup[\"knyazhnin-hvastun\"] = play_graph_dict[\"knyazhnin-hvastun\"]"
   ]
  },
  {
   "cell_type": "code",
   "execution_count": 369,
   "metadata": {},
   "outputs": [],
   "source": [
    "#30 nekrasov-junost-lomonosova"
   ]
  },
  {
   "cell_type": "code",
   "execution_count": 370,
   "metadata": {},
   "outputs": [
    {
     "data": {
      "text/plain": [
       "NodeView(('starik', 'zhenschina', 'mihail_lomonosov', 'izvozchik'))"
      ]
     },
     "execution_count": 370,
     "metadata": {},
     "output_type": "execute_result"
    }
   ],
   "source": [
    "under_12_dict[\"nekrasov-junost-lomonosova\"].nodes()"
   ]
  },
  {
   "cell_type": "code",
   "execution_count": 371,
   "metadata": {},
   "outputs": [],
   "source": [
    "play_graph_dict[\"nekrasov-junost-lomonosova\"].nodes()[\"mihail_lomonosov\"][\"importance\"] = \"Lead\"\n",
    "play_graph_dict[\"nekrasov-junost-lomonosova\"].nodes()[\"starik\"][\"importance\"] = \"Secondary\"\n",
    "play_graph_dict[\"nekrasov-junost-lomonosova\"].nodes()[\"zhenschina\"][\"importance\"] = \"Secondary\"\n",
    "play_graph_dict[\"nekrasov-junost-lomonosova\"].nodes()[\"izvozchik\"][\"importance\"] = \"Episode\""
   ]
  },
  {
   "cell_type": "code",
   "execution_count": 372,
   "metadata": {},
   "outputs": [],
   "source": [
    "dict_with_lead_markup[\"nekrasov-junost-lomonosova\"] = play_graph_dict[\"nekrasov-junost-lomonosova\"]"
   ]
  },
  {
   "cell_type": "code",
   "execution_count": 373,
   "metadata": {},
   "outputs": [],
   "source": [
    "#31 sumarokov-gamlet"
   ]
  },
  {
   "cell_type": "code",
   "execution_count": 374,
   "metadata": {},
   "outputs": [
    {
     "data": {
      "text/plain": [
       "NodeView(('gamlet', 'armans', 'gertruda', 'klavdij', 'polonij', 'ratuda', 'ofelija', 'flemina', 'nachalnik_strazhi', 'voin'))"
      ]
     },
     "execution_count": 374,
     "metadata": {},
     "output_type": "execute_result"
    }
   ],
   "source": [
    "under_12_dict[\"sumarokov-gamlet\"].nodes()"
   ]
  },
  {
   "cell_type": "code",
   "execution_count": 375,
   "metadata": {},
   "outputs": [],
   "source": [
    "play_graph_dict[\"sumarokov-gamlet\"].nodes()[\"gamlet\"][\"importance\"] = \"Lead\"\n",
    "play_graph_dict[\"sumarokov-gamlet\"].nodes()[\"polonij\"][\"importance\"] = \"Lead\"\n",
    "play_graph_dict[\"sumarokov-gamlet\"].nodes()[\"ofelija\"][\"importance\"] = \"Lead\"\n",
    "play_graph_dict[\"sumarokov-gamlet\"].nodes()[\"gertruda\"][\"importance\"] = \"Secondary\"\n",
    "play_graph_dict[\"sumarokov-gamlet\"].nodes()[\"klavdij\"][\"importance\"] = \"Secondary\" \n",
    "play_graph_dict[\"sumarokov-gamlet\"].nodes()[\"flemina\"][\"importance\"] = \"Episode\"\n",
    "play_graph_dict[\"sumarokov-gamlet\"].nodes()[\"armans\"][\"importance\"] = \"Episode\"\n",
    "play_graph_dict[\"sumarokov-gamlet\"].nodes()[\"ratuda\"][\"importance\"] = \"Episode\"\n",
    "play_graph_dict[\"sumarokov-gamlet\"].nodes()[\"nachalnik_strazhi\"][\"importance\"] = \"Episode\"\n",
    "play_graph_dict[\"sumarokov-gamlet\"].nodes()[\"voin\"][\"importance\"] = \"Episode\""
   ]
  },
  {
   "cell_type": "code",
   "execution_count": 376,
   "metadata": {},
   "outputs": [],
   "source": [
    "dict_with_lead_markup[\"sumarokov-gamlet\"] = play_graph_dict[\"sumarokov-gamlet\"]"
   ]
  },
  {
   "cell_type": "code",
   "execution_count": 377,
   "metadata": {},
   "outputs": [],
   "source": [
    "#32 ostrovsky-bogatye-nevesty"
   ]
  },
  {
   "cell_type": "code",
   "execution_count": 378,
   "metadata": {},
   "outputs": [
    {
     "data": {
      "text/plain": [
       "NodeView(('bedonegova', 'piramidalov', 'gnevyshov', 'belesova', 'cyplunova', 'cyplunov'))"
      ]
     },
     "execution_count": 378,
     "metadata": {},
     "output_type": "execute_result"
    }
   ],
   "source": [
    "under_12_dict[\"ostrovsky-bogatye-nevesty\"].nodes()"
   ]
  },
  {
   "cell_type": "code",
   "execution_count": 379,
   "metadata": {},
   "outputs": [],
   "source": [
    "play_graph_dict[\"ostrovsky-bogatye-nevesty\"].nodes()[\"bedonegova\"][\"importance\"] = \"Lead\"\n",
    "play_graph_dict[\"ostrovsky-bogatye-nevesty\"].nodes()[\"piramidalov\"][\"importance\"] = \"Lead\"\n",
    "play_graph_dict[\"ostrovsky-bogatye-nevesty\"].nodes()[\"gnevyshov\"][\"importance\"] = \"Lead\"\n",
    "play_graph_dict[\"ostrovsky-bogatye-nevesty\"].nodes()[\"belesova\"][\"importance\"] = \"Lead\"\n",
    "play_graph_dict[\"ostrovsky-bogatye-nevesty\"].nodes()[\"cyplunova\"][\"importance\"] = \"Lead\"\n",
    "play_graph_dict[\"ostrovsky-bogatye-nevesty\"].nodes()[\"cyplunov\"][\"importance\"] = \"Lead\""
   ]
  },
  {
   "cell_type": "code",
   "execution_count": 380,
   "metadata": {},
   "outputs": [],
   "source": [
    "dict_with_lead_markup[\"ostrovsky-bogatye-nevesty\"] = play_graph_dict[\"ostrovsky-bogatye-nevesty\"]"
   ]
  },
  {
   "cell_type": "code",
   "execution_count": 381,
   "metadata": {},
   "outputs": [],
   "source": [
    "#33 chekhov-predlozhenie"
   ]
  },
  {
   "cell_type": "code",
   "execution_count": 382,
   "metadata": {},
   "outputs": [
    {
     "data": {
      "text/plain": [
       "NodeView(('chubukov', 'lomov', 'natalja_stepanovna'))"
      ]
     },
     "execution_count": 382,
     "metadata": {},
     "output_type": "execute_result"
    }
   ],
   "source": [
    "under_12_dict[\"chekhov-predlozhenie\"].nodes()"
   ]
  },
  {
   "cell_type": "code",
   "execution_count": 383,
   "metadata": {},
   "outputs": [],
   "source": [
    "play_graph_dict[\"chekhov-predlozhenie\"].nodes()[\"chubukov\"][\"importance\"] = \"Lead\"\n",
    "play_graph_dict[\"chekhov-predlozhenie\"].nodes()[\"lomov\"][\"importance\"] = \"Lead\"\n",
    "play_graph_dict[\"chekhov-predlozhenie\"].nodes()[\"natalja_stepanovna\"][\"importance\"] = \"Lead\""
   ]
  },
  {
   "cell_type": "code",
   "execution_count": 384,
   "metadata": {},
   "outputs": [],
   "source": [
    "dict_with_lead_markup[\"chekhov-predlozhenie\"] = play_graph_dict[\"chekhov-predlozhenie\"]"
   ]
  },
  {
   "cell_type": "code",
   "execution_count": 385,
   "metadata": {},
   "outputs": [],
   "source": [
    "#34 sumarokov-tresotinius"
   ]
  },
  {
   "cell_type": "code",
   "execution_count": 386,
   "metadata": {},
   "outputs": [
    {
     "data": {
      "text/plain": [
       "NodeView(('klarisa', 'oront', 'tresotinius', 'bobembius', 'kimar', 'bramarbas', 'serzhant', 'podjachij', 'erast', 'ksaksoksimenius', 'dorant'))"
      ]
     },
     "execution_count": 386,
     "metadata": {},
     "output_type": "execute_result"
    }
   ],
   "source": [
    "under_12_dict[\"sumarokov-tresotinius\"].nodes()"
   ]
  },
  {
   "cell_type": "code",
   "execution_count": 387,
   "metadata": {},
   "outputs": [],
   "source": [
    "play_graph_dict[\"sumarokov-tresotinius\"].nodes()[\"tresotinius\"][\"importance\"] = \"Lead\"\n",
    "play_graph_dict[\"sumarokov-tresotinius\"].nodes()[\"oront\"][\"importance\"] = \"Secondary\"\n",
    "play_graph_dict[\"sumarokov-tresotinius\"].nodes()[\"klarisa\"][\"importance\"] = \"Secondary\"\n",
    "play_graph_dict[\"sumarokov-tresotinius\"].nodes()[\"bobembius\"][\"importance\"] = \"Secondary\"\n",
    "play_graph_dict[\"sumarokov-tresotinius\"].nodes()[\"kimar\"][\"importance\"] = \"Secondary\"\n",
    "play_graph_dict[\"sumarokov-tresotinius\"].nodes()[\"bramarbas\"][\"importance\"] = \"Secondary\"\n",
    "play_graph_dict[\"sumarokov-tresotinius\"].nodes()[\"erast\"][\"importance\"] = \"Secondary\"\n",
    "play_graph_dict[\"sumarokov-tresotinius\"].nodes()[\"podjachij\"][\"importance\"] = \"Secondary\"\n",
    "play_graph_dict[\"sumarokov-tresotinius\"].nodes()[\"serzhant\"][\"importance\"] = \"Episode\"\n",
    "play_graph_dict[\"sumarokov-tresotinius\"].nodes()[\"dorant\"][\"importance\"] = \"Episode\"\n",
    "play_graph_dict[\"sumarokov-tresotinius\"].nodes()[\"ksaksoksimenius\"][\"importance\"] = \"Episode\""
   ]
  },
  {
   "cell_type": "code",
   "execution_count": 388,
   "metadata": {},
   "outputs": [],
   "source": [
    "dict_with_lead_markup[\"sumarokov-tresotinius\"] = play_graph_dict[\"sumarokov-tresotinius\"]"
   ]
  },
  {
   "cell_type": "code",
   "execution_count": 389,
   "metadata": {},
   "outputs": [],
   "source": [
    "#35 nekrasov-zabrakovannye"
   ]
  },
  {
   "cell_type": "code",
   "execution_count": 390,
   "metadata": {},
   "outputs": [
    {
     "data": {
      "text/plain": [
       "NodeView(('grigoriy', 'pervaya_devushka', 'vtoraya_devushka', 'tretya_devushka', 'triumviratov', 'kalistratka', 'kharchin', 'tuzov', 'kadykov'))"
      ]
     },
     "execution_count": 390,
     "metadata": {},
     "output_type": "execute_result"
    }
   ],
   "source": [
    "under_12_dict[\"nekrasov-zabrakovannye\"].nodes()"
   ]
  },
  {
   "cell_type": "code",
   "execution_count": 391,
   "metadata": {},
   "outputs": [],
   "source": [
    "play_graph_dict[\"nekrasov-zabrakovannye\"].nodes()[\"grigoriy\"][\"importance\"] = \"Lead\"\n",
    "play_graph_dict[\"nekrasov-zabrakovannye\"].nodes()[\"triumviratov\"][\"importance\"] = \"Lead\"\n",
    "play_graph_dict[\"nekrasov-zabrakovannye\"].nodes()[\"kalistratka\"][\"importance\"] = \"Secondary\"\n",
    "play_graph_dict[\"nekrasov-zabrakovannye\"].nodes()[\"kadykov\"][\"importance\"] = \"Secondary\"\n",
    "play_graph_dict[\"nekrasov-zabrakovannye\"].nodes()[\"tuzov\"][\"importance\"] = \"Secondary\"\n",
    "play_graph_dict[\"nekrasov-zabrakovannye\"].nodes()[\"kharchin\"][\"importance\"] = \"Secondary\"\n",
    "play_graph_dict[\"nekrasov-zabrakovannye\"].nodes()[\"tretya_devushka\"][\"importance\"] = \"Episode\"\n",
    "play_graph_dict[\"nekrasov-zabrakovannye\"].nodes()[\"vtoraya_devushka\"][\"importance\"] = \"Episode\"\n",
    "play_graph_dict[\"nekrasov-zabrakovannye\"].nodes()[\"pervaya_devushka\"][\"importance\"] = \"Episode\""
   ]
  },
  {
   "cell_type": "code",
   "execution_count": 392,
   "metadata": {},
   "outputs": [],
   "source": [
    "dict_with_lead_markup[\"nekrasov-zabrakovannye\"] = play_graph_dict[\"nekrasov-zabrakovannye\"]"
   ]
  },
  {
   "cell_type": "code",
   "execution_count": 393,
   "metadata": {},
   "outputs": [],
   "source": [
    "#36 gogol-utro-delovogo-cheloveka"
   ]
  },
  {
   "cell_type": "code",
   "execution_count": 394,
   "metadata": {},
   "outputs": [
    {
     "data": {
      "text/plain": [
       "NodeView(('ivan_petrovich', 'lakej', 'aleksandr_ivanovich', 'shrejder', 'katerina_aleksandrovna'))"
      ]
     },
     "execution_count": 394,
     "metadata": {},
     "output_type": "execute_result"
    }
   ],
   "source": [
    "under_12_dict[\"gogol-utro-delovogo-cheloveka\"].nodes()"
   ]
  },
  {
   "cell_type": "code",
   "execution_count": 395,
   "metadata": {},
   "outputs": [],
   "source": [
    "play_graph_dict[\"gogol-utro-delovogo-cheloveka\"].nodes()[\"aleksandr_ivanovich\"][\"importance\"] = \"Lead\"\n",
    "play_graph_dict[\"gogol-utro-delovogo-cheloveka\"].nodes()[\"ivan_petrovich\"][\"importance\"] = \"Lead\"\n",
    "play_graph_dict[\"gogol-utro-delovogo-cheloveka\"].nodes()[\"shrejder\"][\"importance\"] = \"Episode\"\n",
    "play_graph_dict[\"gogol-utro-delovogo-cheloveka\"].nodes()[\"lakej\"][\"importance\"] = \"Episode\"\n",
    "play_graph_dict[\"gogol-utro-delovogo-cheloveka\"].nodes()[\"katerina_aleksandrovna\"][\"importance\"] = \"Episode\""
   ]
  },
  {
   "cell_type": "code",
   "execution_count": 396,
   "metadata": {},
   "outputs": [],
   "source": [
    "dict_with_lead_markup[\"gogol-utro-delovogo-cheloveka\"] = play_graph_dict[\"gogol-utro-delovogo-cheloveka\"]"
   ]
  },
  {
   "cell_type": "code",
   "execution_count": 397,
   "metadata": {},
   "outputs": [],
   "source": [
    "#37 shakhovskoy-ne-lubo-ne-slushai"
   ]
  },
  {
   "cell_type": "code",
   "execution_count": 398,
   "metadata": {},
   "outputs": [
    {
     "data": {
      "text/plain": [
       "NodeView(('zarnitskin', 'dashenka', 'mitjaj', 'mezetskij', 'knjaginja', 'handrina'))"
      ]
     },
     "execution_count": 398,
     "metadata": {},
     "output_type": "execute_result"
    }
   ],
   "source": [
    "under_12_dict[\"shakhovskoy-ne-lubo-ne-slushai\"].nodes()"
   ]
  },
  {
   "cell_type": "code",
   "execution_count": 399,
   "metadata": {},
   "outputs": [],
   "source": [
    "play_graph_dict[\"shakhovskoy-ne-lubo-ne-slushai\"].nodes()[\"zarnitskin\"][\"importance\"] = \"Lead\"\n",
    "play_graph_dict[\"shakhovskoy-ne-lubo-ne-slushai\"].nodes()[\"mezetskij\"][\"importance\"] = \"Lead\"\n",
    "play_graph_dict[\"shakhovskoy-ne-lubo-ne-slushai\"].nodes()[\"mitjaj\"][\"importance\"] = \"Secondary\"\n",
    "play_graph_dict[\"shakhovskoy-ne-lubo-ne-slushai\"].nodes()[\"dashenka\"][\"importance\"] = \"Secondary\"\n",
    "play_graph_dict[\"shakhovskoy-ne-lubo-ne-slushai\"].nodes()[\"knjaginja\"][\"importance\"] = \"Secondary\"\n",
    "play_graph_dict[\"shakhovskoy-ne-lubo-ne-slushai\"].nodes()[\"handrina\"][\"importance\"] = \"Secondary\""
   ]
  },
  {
   "cell_type": "code",
   "execution_count": 400,
   "metadata": {},
   "outputs": [],
   "source": [
    "dict_with_lead_markup[\"shakhovskoy-ne-lubo-ne-slushai\"] = play_graph_dict[\"shakhovskoy-ne-lubo-ne-slushai\"]"
   ]
  },
  {
   "cell_type": "code",
   "execution_count": 401,
   "metadata": {},
   "outputs": [],
   "source": [
    "#38 gogol-tjazhba"
   ]
  },
  {
   "cell_type": "code",
   "execution_count": 402,
   "metadata": {},
   "outputs": [
    {
     "data": {
      "text/plain": [
       "NodeView(('proletov', 'lakej', 'burdjukov'))"
      ]
     },
     "execution_count": 402,
     "metadata": {},
     "output_type": "execute_result"
    }
   ],
   "source": [
    "under_12_dict[\"gogol-tjazhba\"].nodes()"
   ]
  },
  {
   "cell_type": "code",
   "execution_count": 403,
   "metadata": {},
   "outputs": [],
   "source": [
    "play_graph_dict[\"gogol-tjazhba\"].nodes()[\"proletov\"][\"importance\"] = \"Lead\"\n",
    "play_graph_dict[\"gogol-tjazhba\"].nodes()[\"burdjukov\"][\"importance\"] = \"Lead\"\n",
    "play_graph_dict[\"gogol-tjazhba\"].nodes()[\"lakej\"][\"importance\"] = \"Episode\""
   ]
  },
  {
   "cell_type": "code",
   "execution_count": 404,
   "metadata": {},
   "outputs": [],
   "source": [
    "dict_with_lead_markup[\"gogol-tjazhba\"] = play_graph_dict[\"gogol-tjazhba\"]"
   ]
  },
  {
   "cell_type": "code",
   "execution_count": 405,
   "metadata": {},
   "outputs": [],
   "source": [
    "#39 turgenev-provintsialka"
   ]
  },
  {
   "cell_type": "code",
   "execution_count": 406,
   "metadata": {},
   "outputs": [
    {
     "data": {
      "text/plain": [
       "NodeView(('darja_ivanovna', 'misha', 'stupendev', 'vasilevna', 'apollon', 'lakej', 'graf_ljubin'))"
      ]
     },
     "execution_count": 406,
     "metadata": {},
     "output_type": "execute_result"
    }
   ],
   "source": [
    "under_12_dict[\"turgenev-provintsialka\"].nodes()"
   ]
  },
  {
   "cell_type": "code",
   "execution_count": 407,
   "metadata": {},
   "outputs": [],
   "source": [
    "play_graph_dict[\"turgenev-provintsialka\"].nodes()[\"darja_ivanovna\"][\"importance\"] = \"Lead\"\n",
    "play_graph_dict[\"turgenev-provintsialka\"].nodes()[\"stupendev\"][\"importance\"] = \"Lead\"\n",
    "play_graph_dict[\"turgenev-provintsialka\"].nodes()[\"graf_ljubin\"][\"importance\"] = \"Lead\"\n",
    "play_graph_dict[\"turgenev-provintsialka\"].nodes()[\"misha\"][\"importance\"] = \"Secondary\"\n",
    "play_graph_dict[\"turgenev-provintsialka\"].nodes()[\"vasilevna\"][\"importance\"] = \"Episode\"\n",
    "play_graph_dict[\"turgenev-provintsialka\"].nodes()[\"apollon\"][\"importance\"] = \"Episode\"\n",
    "play_graph_dict[\"turgenev-provintsialka\"].nodes()[\"lakej\"][\"importance\"] = \"Episode\""
   ]
  },
  {
   "cell_type": "code",
   "execution_count": 408,
   "metadata": {},
   "outputs": [],
   "source": [
    "dict_with_lead_markup[\"turgenev-provintsialka\"] = play_graph_dict[\"turgenev-provintsialka\"]"
   ]
  },
  {
   "cell_type": "code",
   "execution_count": 409,
   "metadata": {},
   "outputs": [],
   "source": [
    "#40 majkov-femist-i-ieronima"
   ]
  },
  {
   "cell_type": "code",
   "execution_count": 410,
   "metadata": {},
   "outputs": [
    {
     "data": {
      "text/plain": [
       "NodeView(('klit', 'femist', 'magomet', 'osman', 'ieronima', 'nachalnik'))"
      ]
     },
     "execution_count": 410,
     "metadata": {},
     "output_type": "execute_result"
    }
   ],
   "source": [
    "under_12_dict[\"majkov-femist-i-ieronima\"].nodes()"
   ]
  },
  {
   "cell_type": "code",
   "execution_count": 411,
   "metadata": {},
   "outputs": [],
   "source": [
    "play_graph_dict[\"majkov-femist-i-ieronima\"].nodes()[\"femist\"][\"importance\"] = \"Lead\"\n",
    "play_graph_dict[\"majkov-femist-i-ieronima\"].nodes()[\"magomet\"][\"importance\"] = \"Lead\"\n",
    "play_graph_dict[\"majkov-femist-i-ieronima\"].nodes()[\"ieronima\"][\"importance\"] = \"Lead\"\n",
    "play_graph_dict[\"majkov-femist-i-ieronima\"].nodes()[\"klit\"][\"importance\"] = \"Secondary\"\n",
    "play_graph_dict[\"majkov-femist-i-ieronima\"].nodes()[\"osman\"][\"importance\"] = \"Secondary\" \n",
    "play_graph_dict[\"majkov-femist-i-ieronima\"].nodes()[\"nachalnik\"][\"importance\"] = \"Episode\""
   ]
  },
  {
   "cell_type": "code",
   "execution_count": 412,
   "metadata": {},
   "outputs": [],
   "source": [
    "dict_with_lead_markup[\"majkov-femist-i-ieronima\"] = play_graph_dict[\"majkov-femist-i-ieronima\"]"
   ]
  },
  {
   "cell_type": "code",
   "execution_count": 413,
   "metadata": {},
   "outputs": [],
   "source": [
    "#41 knyazhnin-vadim-novgorodskij"
   ]
  },
  {
   "cell_type": "code",
   "execution_count": 414,
   "metadata": {},
   "outputs": [
    {
     "data": {
      "text/plain": [
       "NodeView(('vigor', 'prenest', 'vadim', 'selena', 'ramida', 'rurik', 'izved'))"
      ]
     },
     "execution_count": 414,
     "metadata": {},
     "output_type": "execute_result"
    }
   ],
   "source": [
    "under_12_dict[\"knyazhnin-vadim-novgorodskij\"].nodes()"
   ]
  },
  {
   "cell_type": "code",
   "execution_count": 415,
   "metadata": {},
   "outputs": [],
   "source": [
    "play_graph_dict[\"knyazhnin-vadim-novgorodskij\"].nodes()[\"vadim\"][\"importance\"] = \"Lead\"\n",
    "play_graph_dict[\"knyazhnin-vadim-novgorodskij\"].nodes()[\"ramida\"][\"importance\"] = \"Lead\"\n",
    "play_graph_dict[\"knyazhnin-vadim-novgorodskij\"].nodes()[\"rurik\"][\"importance\"] = \"Lead\"\n",
    "play_graph_dict[\"knyazhnin-vadim-novgorodskij\"].nodes()[\"prenest\"][\"importance\"] = \"Secondary\"\n",
    "play_graph_dict[\"knyazhnin-vadim-novgorodskij\"].nodes()[\"vigor\"][\"importance\"] = \"Secondary\" \n",
    "play_graph_dict[\"knyazhnin-vadim-novgorodskij\"].nodes()[\"selena\"][\"importance\"] = \"Episode\"\n",
    "play_graph_dict[\"knyazhnin-vadim-novgorodskij\"].nodes()[\"izved\"][\"importance\"] = \"Episode\""
   ]
  },
  {
   "cell_type": "code",
   "execution_count": 416,
   "metadata": {},
   "outputs": [],
   "source": [
    "dict_with_lead_markup[\"knyazhnin-vadim-novgorodskij\"] = play_graph_dict[\"knyazhnin-vadim-novgorodskij\"]"
   ]
  },
  {
   "cell_type": "code",
   "execution_count": 417,
   "metadata": {},
   "outputs": [],
   "source": [
    "#42 khmelnitsky-vzaimnye-ispytaniya"
   ]
  },
  {
   "cell_type": "code",
   "execution_count": 418,
   "metadata": {},
   "outputs": [
    {
     "data": {
      "text/plain": [
       "NodeView(('grafinya', 'svetlana', 'plamirskij', 'ehledin'))"
      ]
     },
     "execution_count": 418,
     "metadata": {},
     "output_type": "execute_result"
    }
   ],
   "source": [
    "under_12_dict[\"khmelnitsky-vzaimnye-ispytaniya\"].nodes()"
   ]
  },
  {
   "cell_type": "code",
   "execution_count": 419,
   "metadata": {},
   "outputs": [],
   "source": [
    "play_graph_dict[\"khmelnitsky-vzaimnye-ispytaniya\"].nodes()[\"grafinya\"][\"importance\"] = \"Lead\"\n",
    "play_graph_dict[\"khmelnitsky-vzaimnye-ispytaniya\"].nodes()[\"svetlana\"][\"importance\"] = \"Lead\"\n",
    "play_graph_dict[\"khmelnitsky-vzaimnye-ispytaniya\"].nodes()[\"plamirskij\"][\"importance\"] = \"Lead\"\n",
    "play_graph_dict[\"khmelnitsky-vzaimnye-ispytaniya\"].nodes()[\"ehledin\"][\"importance\"] = \"Secondary\""
   ]
  },
  {
   "cell_type": "code",
   "execution_count": 420,
   "metadata": {},
   "outputs": [],
   "source": [
    "dict_with_lead_markup[\"khmelnitsky-vzaimnye-ispytaniya\"] = play_graph_dict[\"khmelnitsky-vzaimnye-ispytaniya\"]"
   ]
  },
  {
   "cell_type": "code",
   "execution_count": 421,
   "metadata": {},
   "outputs": [],
   "source": [
    "#43 chekhov-tragik-ponevole"
   ]
  },
  {
   "cell_type": "code",
   "execution_count": 422,
   "metadata": {},
   "outputs": [
    {
     "data": {
      "text/plain": [
       "NodeView(('Murashkin', 'Tolkachov'))"
      ]
     },
     "execution_count": 422,
     "metadata": {},
     "output_type": "execute_result"
    }
   ],
   "source": [
    "under_12_dict[\"chekhov-tragik-ponevole\"].nodes()"
   ]
  },
  {
   "cell_type": "code",
   "execution_count": 423,
   "metadata": {},
   "outputs": [],
   "source": [
    "play_graph_dict[\"chekhov-tragik-ponevole\"].nodes()[\"Murashkin\"][\"importance\"] = \"Lead\"\n",
    "play_graph_dict[\"chekhov-tragik-ponevole\"].nodes()[\"Tolkachov\"][\"importance\"] = \"Lead\""
   ]
  },
  {
   "cell_type": "code",
   "execution_count": 424,
   "metadata": {},
   "outputs": [],
   "source": [
    "dict_with_lead_markup[\"chekhov-tragik-ponevole\"] = play_graph_dict[\"chekhov-tragik-ponevole\"]"
   ]
  },
  {
   "cell_type": "code",
   "execution_count": 425,
   "metadata": {},
   "outputs": [
    {
     "data": {
      "text/plain": [
       "43"
      ]
     },
     "execution_count": 425,
     "metadata": {},
     "output_type": "execute_result"
    }
   ],
   "source": [
    "len(dict_with_lead_markup)"
   ]
  },
  {
   "cell_type": "code",
   "execution_count": 426,
   "metadata": {},
   "outputs": [],
   "source": [
    "#44 turgenev-vecher-v-sorrente"
   ]
  },
  {
   "cell_type": "code",
   "execution_count": 427,
   "metadata": {},
   "outputs": [
    {
     "data": {
      "text/plain": [
       "NodeView(('avakov', 'sluga', 'mr_popelin', 'nadezhda_pavlovna', 'belskij', 'marija_petrovna', 'golos_pevtsa'))"
      ]
     },
     "execution_count": 427,
     "metadata": {},
     "output_type": "execute_result"
    }
   ],
   "source": [
    "under_12_dict[\"turgenev-vecher-v-sorrente\"].nodes()"
   ]
  },
  {
   "cell_type": "code",
   "execution_count": 428,
   "metadata": {},
   "outputs": [],
   "source": [
    "play_graph_dict[\"turgenev-vecher-v-sorrente\"].nodes()[\"avakov\"][\"importance\"] = \"Lead\"\n",
    "play_graph_dict[\"turgenev-vecher-v-sorrente\"].nodes()[\"nadezhda_pavlovna\"][\"importance\"] = \"Lead\"\n",
    "play_graph_dict[\"turgenev-vecher-v-sorrente\"].nodes()[\"belskij\"][\"importance\"] = \"Lead\"\n",
    "play_graph_dict[\"turgenev-vecher-v-sorrente\"].nodes()[\"marija_petrovna\"][\"importance\"] = \"Lead\"\n",
    "play_graph_dict[\"turgenev-vecher-v-sorrente\"].nodes()[\"golos_pevtsa\"][\"importance\"] = \"Episode\" \n",
    "play_graph_dict[\"turgenev-vecher-v-sorrente\"].nodes()[\"sluga\"][\"importance\"] = \"Episode\"\n",
    "play_graph_dict[\"turgenev-vecher-v-sorrente\"].nodes()[\"mr_popelin\"][\"importance\"] = \"Episode\""
   ]
  },
  {
   "cell_type": "code",
   "execution_count": 429,
   "metadata": {},
   "outputs": [],
   "source": [
    "dict_with_lead_markup[\"turgenev-vecher-v-sorrente\"] = play_graph_dict[\"turgenev-vecher-v-sorrente\"]"
   ]
  },
  {
   "cell_type": "code",
   "execution_count": 430,
   "metadata": {},
   "outputs": [],
   "source": [
    "#45 ostrovsky-bez-viny-vinovatye"
   ]
  },
  {
   "cell_type": "code",
   "execution_count": 431,
   "metadata": {},
   "outputs": [
    {
     "data": {
      "text/plain": [
       "NodeView(('burda', 'finetta', 'rozmarin', 'durak', 'asir', 'erast', 'rozalija', 'vorozheja'))"
      ]
     },
     "execution_count": 431,
     "metadata": {},
     "output_type": "execute_result"
    }
   ],
   "source": [
    "under_12_dict[\"sumarokov-vzdorschitsa\"].nodes()"
   ]
  },
  {
   "cell_type": "code",
   "execution_count": 432,
   "metadata": {},
   "outputs": [],
   "source": [
    "play_graph_dict[\"sumarokov-vzdorschitsa\"].nodes()[\"burda\"][\"importance\"] = \"Lead\"\n",
    "play_graph_dict[\"sumarokov-vzdorschitsa\"].nodes()[\"finetta\"][\"importance\"] = \"Lead\"\n",
    "play_graph_dict[\"sumarokov-vzdorschitsa\"].nodes()[\"rozmarin\"][\"importance\"] = \"Lead\"\n",
    "play_graph_dict[\"sumarokov-vzdorschitsa\"].nodes()[\"asir\"][\"importance\"] = \"Lead\"\n",
    "play_graph_dict[\"sumarokov-vzdorschitsa\"].nodes()[\"rozalija\"][\"importance\"] = \"Lead\" \n",
    "play_graph_dict[\"sumarokov-vzdorschitsa\"].nodes()[\"vorozheja\"][\"importance\"] = \"Secondary\"\n",
    "play_graph_dict[\"sumarokov-vzdorschitsa\"].nodes()[\"erast\"][\"importance\"] = \"Secondary\""
   ]
  },
  {
   "cell_type": "code",
   "execution_count": 433,
   "metadata": {},
   "outputs": [],
   "source": [
    "dict_with_lead_markup[\"sumarokov-vzdorschitsa\"] = play_graph_dict[\"sumarokov-vzdorschitsa\"]"
   ]
  },
  {
   "cell_type": "code",
   "execution_count": 434,
   "metadata": {},
   "outputs": [],
   "source": [
    "#46 majkov-agriopa"
   ]
  },
  {
   "cell_type": "code",
   "execution_count": 435,
   "metadata": {},
   "outputs": [
    {
     "data": {
      "text/plain": [
       "NodeView(('albina', 'agriopa', 'telef', 'voenachalnik', 'ariston', 'azor', 'odin_voin', 'vestnik'))"
      ]
     },
     "execution_count": 435,
     "metadata": {},
     "output_type": "execute_result"
    }
   ],
   "source": [
    "under_12_dict[\"majkov-agriopa\"].nodes()"
   ]
  },
  {
   "cell_type": "code",
   "execution_count": 436,
   "metadata": {},
   "outputs": [],
   "source": [
    "play_graph_dict[\"majkov-agriopa\"].nodes()[\"agriopa\"][\"importance\"] = \"Lead\"\n",
    "play_graph_dict[\"majkov-agriopa\"].nodes()[\"telef\"][\"importance\"] = \"Lead\"\n",
    "play_graph_dict[\"majkov-agriopa\"].nodes()[\"azor\"][\"importance\"] = \"Lead\"\n",
    "play_graph_dict[\"majkov-agriopa\"].nodes()[\"albina\"][\"importance\"] = \"Secondary\"\n",
    "play_graph_dict[\"majkov-agriopa\"].nodes()[\"ariston\"][\"importance\"] = \"Secondary\" \n",
    "play_graph_dict[\"majkov-agriopa\"].nodes()[\"vestnik\"][\"importance\"] = \"Episode\" \n",
    "play_graph_dict[\"majkov-agriopa\"].nodes()[\"odin_voin\"][\"importance\"] = \"Episode\"\n",
    "play_graph_dict[\"majkov-agriopa\"].nodes()[\"voenachalnik\"][\"importance\"] = \"Episode\""
   ]
  },
  {
   "cell_type": "code",
   "execution_count": 437,
   "metadata": {},
   "outputs": [],
   "source": [
    "dict_with_lead_markup[\"majkov-agriopa\"] = play_graph_dict[\"majkov-agriopa\"]"
   ]
  },
  {
   "cell_type": "code",
   "execution_count": 438,
   "metadata": {},
   "outputs": [],
   "source": [
    "#47 chekhov-medved"
   ]
  },
  {
   "cell_type": "code",
   "execution_count": 439,
   "metadata": {},
   "outputs": [
    {
     "data": {
      "text/plain": [
       "NodeView(('Luka', 'Popova', 'Smirnov'))"
      ]
     },
     "execution_count": 439,
     "metadata": {},
     "output_type": "execute_result"
    }
   ],
   "source": [
    "under_12_dict[\"chekhov-medved\"].nodes()"
   ]
  },
  {
   "cell_type": "code",
   "execution_count": 440,
   "metadata": {},
   "outputs": [],
   "source": [
    "play_graph_dict[\"chekhov-medved\"].nodes()[\"Smirnov\"][\"importance\"] = \"Lead\"\n",
    "play_graph_dict[\"chekhov-medved\"].nodes()[\"Popova\"][\"importance\"] = \"Lead\"\n",
    "play_graph_dict[\"chekhov-medved\"].nodes()[\"Luka\"][\"importance\"] = \"Secondary\""
   ]
  },
  {
   "cell_type": "code",
   "execution_count": 441,
   "metadata": {},
   "outputs": [],
   "source": [
    "dict_with_lead_markup[\"chekhov-medved\"] = play_graph_dict[\"chekhov-medved\"]"
   ]
  },
  {
   "cell_type": "code",
   "execution_count": 442,
   "metadata": {},
   "outputs": [],
   "source": [
    "#48 chekhov-jubilej"
   ]
  },
  {
   "cell_type": "code",
   "execution_count": 443,
   "metadata": {},
   "outputs": [
    {
     "data": {
      "text/plain": [
       "NodeView(('Hirin', 'Shipuchin', 'TatjanaAlekseevna', 'Merchutkina', 'ChlenBanka'))"
      ]
     },
     "execution_count": 443,
     "metadata": {},
     "output_type": "execute_result"
    }
   ],
   "source": [
    "under_12_dict[\"chekhov-jubilej\"].nodes()"
   ]
  },
  {
   "cell_type": "code",
   "execution_count": 444,
   "metadata": {},
   "outputs": [],
   "source": [
    "play_graph_dict[\"chekhov-jubilej\"].nodes()[\"Hirin\"][\"importance\"] = \"Lead\"\n",
    "play_graph_dict[\"chekhov-jubilej\"].nodes()[\"Shipuchin\"][\"importance\"] = \"Lead\"\n",
    "play_graph_dict[\"chekhov-jubilej\"].nodes()[\"TatjanaAlekseevna\"][\"importance\"] = \"Lead\"\n",
    "play_graph_dict[\"chekhov-jubilej\"].nodes()[\"Merchutkina\"][\"importance\"] = \"Lead\" \n",
    "play_graph_dict[\"chekhov-jubilej\"].nodes()[\"ChlenBanka\"][\"importance\"] = \"Episode\""
   ]
  },
  {
   "cell_type": "code",
   "execution_count": 445,
   "metadata": {},
   "outputs": [],
   "source": [
    "dict_with_lead_markup[\"chekhov-jubilej\"] = play_graph_dict[\"chekhov-jubilej\"]"
   ]
  },
  {
   "cell_type": "code",
   "execution_count": 446,
   "metadata": {},
   "outputs": [],
   "source": [
    "#49 lensky-horosha-i-durna"
   ]
  },
  {
   "cell_type": "code",
   "execution_count": 447,
   "metadata": {},
   "outputs": [
    {
     "data": {
      "text/plain": [
       "NodeView(('konstantin_prohorovich', 'stepanida_karpovna', 'padcheretsin', 'nadenka', 'emeljan', 'alinskoj'))"
      ]
     },
     "execution_count": 447,
     "metadata": {},
     "output_type": "execute_result"
    }
   ],
   "source": [
    "under_12_dict[\"lensky-horosha-i-durna\"].nodes()"
   ]
  },
  {
   "cell_type": "code",
   "execution_count": 448,
   "metadata": {},
   "outputs": [],
   "source": [
    "play_graph_dict[\"lensky-horosha-i-durna\"].nodes()[\"konstantin_prohorovich\"][\"importance\"] = \"Lead\" \n",
    "play_graph_dict[\"lensky-horosha-i-durna\"].nodes()[\"stepanida_karpovna\"][\"importance\"] = \"Lead\" \n",
    "play_graph_dict[\"lensky-horosha-i-durna\"].nodes()[\"padcheretsin\"][\"importance\"] = \"Lead\" \n",
    "play_graph_dict[\"lensky-horosha-i-durna\"].nodes()[\"nadenka\"][\"importance\"] = \"Lead\" \n",
    "play_graph_dict[\"lensky-horosha-i-durna\"].nodes()[\"alinskoj\"][\"importance\"] = \"Lead\" \n",
    "play_graph_dict[\"lensky-horosha-i-durna\"].nodes()[\"emeljan\"][\"importance\"] = \"Episode\" "
   ]
  },
  {
   "cell_type": "code",
   "execution_count": 449,
   "metadata": {},
   "outputs": [],
   "source": [
    "#50 turgenev-holostjak"
   ]
  },
  {
   "cell_type": "code",
   "execution_count": 450,
   "metadata": {},
   "outputs": [
    {
     "data": {
      "text/plain": [
       "NodeView(('kochergin', 'suhozilov', 'lidia', 'strujkin', 'suhozilova', 'tatarin', 'italianets', 'sluga'))"
      ]
     },
     "execution_count": 450,
     "metadata": {},
     "output_type": "execute_result"
    }
   ],
   "source": [
    "under_12_dict[\"nekrasov-akter\"].nodes()"
   ]
  },
  {
   "cell_type": "code",
   "execution_count": 451,
   "metadata": {},
   "outputs": [],
   "source": [
    "play_graph_dict[\"nekrasov-akter\"].nodes()[\"kochergin\"][\"importance\"] = \"Lead\" \n",
    "play_graph_dict[\"nekrasov-akter\"].nodes()[\"suhozilov\"][\"importance\"] = \"Lead\" \n",
    "play_graph_dict[\"nekrasov-akter\"].nodes()[\"strujkin\"][\"importance\"] = \"Lead\" \n",
    "play_graph_dict[\"nekrasov-akter\"].nodes()[\"suhozilova\"][\"importance\"] = \"Secondary\" \n",
    "play_graph_dict[\"nekrasov-akter\"].nodes()[\"lidia\"][\"importance\"] = \"Secondary\" \n",
    "play_graph_dict[\"nekrasov-akter\"].nodes()[\"sluga\"][\"importance\"] = \"Episode\" \n",
    "play_graph_dict[\"nekrasov-akter\"].nodes()[\"italianets\"][\"importance\"] = \"Episode\" \n",
    "play_graph_dict[\"nekrasov-akter\"].nodes()[\"tatarin\"][\"importance\"] = \"Episode\" \n",
    "# сложный случай: трое персонажей -- один"
   ]
  },
  {
   "cell_type": "code",
   "execution_count": 452,
   "metadata": {},
   "outputs": [],
   "source": [
    "# markup is finished"
   ]
  },
  {
   "cell_type": "markdown",
   "metadata": {},
   "source": [
    "### Analyzing \"importance tags\""
   ]
  },
  {
   "cell_type": "code",
   "execution_count": 453,
   "metadata": {},
   "outputs": [
    {
     "data": {
      "text/plain": [
       "{'Person group': False,\n",
       " 'Number of spoken words': 3305,\n",
       " 'Gender': 'FEMALE',\n",
       " 'label': 'Агриопа',\n",
       " 'importance': 'Lead',\n",
       " 'relative_num_of_words': 0.375696}"
      ]
     },
     "execution_count": 453,
     "metadata": {},
     "output_type": "execute_result"
    }
   ],
   "source": [
    "play_graph_dict[\"majkov-agriopa\"].nodes()[\"agriopa\"]"
   ]
  },
  {
   "cell_type": "code",
   "execution_count": 454,
   "metadata": {},
   "outputs": [],
   "source": [
    "labels = nx.get_node_attributes(play_graph_dict[\"majkov-agriopa\"], 'label')"
   ]
  },
  {
   "cell_type": "code",
   "execution_count": 455,
   "metadata": {
    "scrolled": false
   },
   "outputs": [
    {
     "data": {
      "image/png": "[encoded data removed]",
      "text/plain": [
       "<Figure size 432x288 with 1 Axes>"
      ]
     },
     "metadata": {},
     "output_type": "display_data"
    }
   ],
   "source": [
    "my_pos = nx.circular_layout(play_graph_dict[\"majkov-agriopa\"]) \n",
    "plt.figure() \n",
    "\n",
    "val_map = {\"Lead\": 1, \"Secondary\": 0.54, \"Episode\": 0} \n",
    "values = [val_map.get(play_graph_dict[\"majkov-agriopa\"].nodes()[node][\"importance\"], 0.25) \n",
    "          for node in play_graph_dict[\"majkov-agriopa\"].nodes()]\n",
    "\n",
    "nx.draw_spring(play_graph_dict[\"majkov-agriopa\"], \n",
    "               node_color=values,#\"mediumvioletred\",  \n",
    "               alpha=0.8, \n",
    "               with_labels=True,\n",
    "               labels = labels)"
   ]
  },
  {
   "cell_type": "code",
   "execution_count": 456,
   "metadata": {},
   "outputs": [],
   "source": [
    "labels = nx.get_node_attributes(play_graph_dict[\"prutkov-oprometchivyj-turka\"], 'label')"
   ]
  },
  {
   "cell_type": "code",
   "execution_count": 457,
   "metadata": {},
   "outputs": [
    {
     "data": {
      "image/png": "[encoded data removed]",
      "text/plain": [
       "<Figure size 432x288 with 1 Axes>"
      ]
     },
     "metadata": {},
     "output_type": "display_data"
    }
   ],
   "source": [
    "my_pos = nx.circular_layout(play_graph_dict[\"prutkov-oprometchivyj-turka\"]) \n",
    "plt.figure() \n",
    "\n",
    "val_map = {\"Lead\": 1, \"Secondary\": 0.54, \"Episode\": 0} \n",
    "values = [val_map.get(play_graph_dict[\"prutkov-oprometchivyj-turka\"].nodes()[node][\"importance\"], 0.25) \n",
    "          for node in play_graph_dict[\"prutkov-oprometchivyj-turka\"].nodes()]\n",
    "\n",
    "nx.draw_spring(play_graph_dict[\"prutkov-oprometchivyj-turka\"], \n",
    "               node_color=values,#\"mediumvioletred\",  \n",
    "               alpha=0.8, \n",
    "               with_labels=True,\n",
    "               labels = labels)"
   ]
  },
  {
   "cell_type": "markdown",
   "metadata": {},
   "source": [
    "### Lets's make our dataset \n",
    "We collect all the possible features in one dataframe"
   ]
  },
  {
   "cell_type": "code",
   "execution_count": 458,
   "metadata": {},
   "outputs": [],
   "source": [
    "gender_dict = {'FEMALE': 0, 'MALE':1, 'UNKNOWN':3}\n",
    "importance_dict = {'Lead':0, 'Secondary':1, 'Episode':2}\n",
    "for_df = []\n",
    "for play in dict_with_lead_markup:\n",
    "    play_dict = dict_with_lead_markup[play]\n",
    "    for node in play_dict.nodes():\n",
    "        name = play_dict.nodes()[node]['label']\n",
    "        degr = round(nx.degree_centrality(play_dict)[node], 3)\n",
    "        betw = round(nx.betweenness_centrality(play_dict)[node], 3)\n",
    "        pagerank = round(nx.pagerank(play_dict)[node], 3)\n",
    "        num_of_words = round(play_dict.nodes()[node]['relative_num_of_words'], 5)\n",
    "        gender = gender_dict[play_dict.nodes()[node]['Gender']]\n",
    "        try:\n",
    "            imp = importance_dict[play_dict.nodes()[node]['importance']]\n",
    "        except:\n",
    "            continue\n",
    "        data = [play, name, degr, betw, pagerank, num_of_words, gender, imp]\n",
    "        for_df.append(data)\n",
    "    "
   ]
  },
  {
   "cell_type": "code",
   "execution_count": 459,
   "metadata": {},
   "outputs": [],
   "source": [
    "import pandas as pd\n",
    "#\n",
    "df = pd.DataFrame(for_df, columns=['play', 'name', 'degree_cent', 'between_cent', 'pagerank', 'relative_words', 'gender', 'importance'])"
   ]
  },
  {
   "cell_type": "code",
   "execution_count": 460,
   "metadata": {},
   "outputs": [
    {
     "data": {
      "text/html": [
       "<div>\n",
       "<style scoped>\n",
       "    .dataframe tbody tr th:only-of-type {\n",
       "        vertical-align: middle;\n",
       "    }\n",
       "\n",
       "    .dataframe tbody tr th {\n",
       "        vertical-align: top;\n",
       "    }\n",
       "\n",
       "    .dataframe thead th {\n",
       "        text-align: right;\n",
       "    }\n",
       "</style>\n",
       "<table border=\"1\" class=\"dataframe\">\n",
       "  <thead>\n",
       "    <tr style=\"text-align: right;\">\n",
       "      <th></th>\n",
       "      <th>play</th>\n",
       "      <th>name</th>\n",
       "      <th>degree_cent</th>\n",
       "      <th>between_cent</th>\n",
       "      <th>pagerank</th>\n",
       "      <th>relative_words</th>\n",
       "      <th>gender</th>\n",
       "      <th>importance</th>\n",
       "    </tr>\n",
       "  </thead>\n",
       "  <tbody>\n",
       "    <tr>\n",
       "      <th>0</th>\n",
       "      <td>fonvizin-brigadir</td>\n",
       "      <td>Советник</td>\n",
       "      <td>1.00</td>\n",
       "      <td>0.008</td>\n",
       "      <td>0.136</td>\n",
       "      <td>0.19902</td>\n",
       "      <td>1</td>\n",
       "      <td>0</td>\n",
       "    </tr>\n",
       "    <tr>\n",
       "      <th>1</th>\n",
       "      <td>fonvizin-brigadir</td>\n",
       "      <td>Сын</td>\n",
       "      <td>1.00</td>\n",
       "      <td>0.008</td>\n",
       "      <td>0.161</td>\n",
       "      <td>0.18411</td>\n",
       "      <td>1</td>\n",
       "      <td>0</td>\n",
       "    </tr>\n",
       "    <tr>\n",
       "      <th>2</th>\n",
       "      <td>fonvizin-brigadir</td>\n",
       "      <td>Бригадир</td>\n",
       "      <td>1.00</td>\n",
       "      <td>0.008</td>\n",
       "      <td>0.141</td>\n",
       "      <td>0.20819</td>\n",
       "      <td>1</td>\n",
       "      <td>0</td>\n",
       "    </tr>\n",
       "    <tr>\n",
       "      <th>3</th>\n",
       "      <td>fonvizin-brigadir</td>\n",
       "      <td>Советница</td>\n",
       "      <td>1.00</td>\n",
       "      <td>0.008</td>\n",
       "      <td>0.175</td>\n",
       "      <td>0.15308</td>\n",
       "      <td>0</td>\n",
       "      <td>0</td>\n",
       "    </tr>\n",
       "    <tr>\n",
       "      <th>4</th>\n",
       "      <td>fonvizin-brigadir</td>\n",
       "      <td>Бригадирша</td>\n",
       "      <td>1.00</td>\n",
       "      <td>0.008</td>\n",
       "      <td>0.125</td>\n",
       "      <td>0.16122</td>\n",
       "      <td>0</td>\n",
       "      <td>0</td>\n",
       "    </tr>\n",
       "    <tr>\n",
       "      <th>...</th>\n",
       "      <td>...</td>\n",
       "      <td>...</td>\n",
       "      <td>...</td>\n",
       "      <td>...</td>\n",
       "      <td>...</td>\n",
       "      <td>...</td>\n",
       "      <td>...</td>\n",
       "      <td>...</td>\n",
       "    </tr>\n",
       "    <tr>\n",
       "      <th>327</th>\n",
       "      <td>chekhov-medved</td>\n",
       "      <td>Смирнов</td>\n",
       "      <td>1.00</td>\n",
       "      <td>0.000</td>\n",
       "      <td>0.310</td>\n",
       "      <td>0.56205</td>\n",
       "      <td>1</td>\n",
       "      <td>0</td>\n",
       "    </tr>\n",
       "    <tr>\n",
       "      <th>328</th>\n",
       "      <td>chekhov-jubilej</td>\n",
       "      <td>Хирин</td>\n",
       "      <td>0.75</td>\n",
       "      <td>0.000</td>\n",
       "      <td>0.192</td>\n",
       "      <td>0.22449</td>\n",
       "      <td>1</td>\n",
       "      <td>0</td>\n",
       "    </tr>\n",
       "    <tr>\n",
       "      <th>329</th>\n",
       "      <td>chekhov-jubilej</td>\n",
       "      <td>Шипучин</td>\n",
       "      <td>1.00</td>\n",
       "      <td>0.056</td>\n",
       "      <td>0.273</td>\n",
       "      <td>0.34763</td>\n",
       "      <td>1</td>\n",
       "      <td>0</td>\n",
       "    </tr>\n",
       "    <tr>\n",
       "      <th>330</th>\n",
       "      <td>chekhov-jubilej</td>\n",
       "      <td>Татьяна Алексеевна</td>\n",
       "      <td>1.00</td>\n",
       "      <td>0.056</td>\n",
       "      <td>0.216</td>\n",
       "      <td>0.20858</td>\n",
       "      <td>0</td>\n",
       "      <td>0</td>\n",
       "    </tr>\n",
       "    <tr>\n",
       "      <th>331</th>\n",
       "      <td>chekhov-jubilej</td>\n",
       "      <td>Мерчуткина</td>\n",
       "      <td>1.00</td>\n",
       "      <td>0.056</td>\n",
       "      <td>0.235</td>\n",
       "      <td>0.17468</td>\n",
       "      <td>0</td>\n",
       "      <td>0</td>\n",
       "    </tr>\n",
       "  </tbody>\n",
       "</table>\n",
       "<p>123 rows × 8 columns</p>\n",
       "</div>"
      ],
      "text/plain": [
       "                  play                name  degree_cent  between_cent  \\\n",
       "0    fonvizin-brigadir            Советник         1.00         0.008   \n",
       "1    fonvizin-brigadir                 Сын         1.00         0.008   \n",
       "2    fonvizin-brigadir            Бригадир         1.00         0.008   \n",
       "3    fonvizin-brigadir           Советница         1.00         0.008   \n",
       "4    fonvizin-brigadir          Бригадирша         1.00         0.008   \n",
       "..                 ...                 ...          ...           ...   \n",
       "327     chekhov-medved             Смирнов         1.00         0.000   \n",
       "328    chekhov-jubilej               Хирин         0.75         0.000   \n",
       "329    chekhov-jubilej             Шипучин         1.00         0.056   \n",
       "330    chekhov-jubilej  Татьяна Алексеевна         1.00         0.056   \n",
       "331    chekhov-jubilej          Мерчуткина         1.00         0.056   \n",
       "\n",
       "     pagerank  relative_words  gender  importance  \n",
       "0       0.136         0.19902       1           0  \n",
       "1       0.161         0.18411       1           0  \n",
       "2       0.141         0.20819       1           0  \n",
       "3       0.175         0.15308       0           0  \n",
       "4       0.125         0.16122       0           0  \n",
       "..        ...             ...     ...         ...  \n",
       "327     0.310         0.56205       1           0  \n",
       "328     0.192         0.22449       1           0  \n",
       "329     0.273         0.34763       1           0  \n",
       "330     0.216         0.20858       0           0  \n",
       "331     0.235         0.17468       0           0  \n",
       "\n",
       "[123 rows x 8 columns]"
      ]
     },
     "execution_count": 460,
     "metadata": {},
     "output_type": "execute_result"
    }
   ],
   "source": [
    "df.loc[df['importance']==0] # 123 main roles"
   ]
  },
  {
   "cell_type": "code",
   "execution_count": 462,
   "metadata": {},
   "outputs": [
    {
     "data": {
      "text/html": [
       "<div>\n",
       "<style scoped>\n",
       "    .dataframe tbody tr th:only-of-type {\n",
       "        vertical-align: middle;\n",
       "    }\n",
       "\n",
       "    .dataframe tbody tr th {\n",
       "        vertical-align: top;\n",
       "    }\n",
       "\n",
       "    .dataframe thead th {\n",
       "        text-align: right;\n",
       "    }\n",
       "</style>\n",
       "<table border=\"1\" class=\"dataframe\">\n",
       "  <thead>\n",
       "    <tr style=\"text-align: right;\">\n",
       "      <th></th>\n",
       "      <th>play</th>\n",
       "      <th>name</th>\n",
       "      <th>degree_cent</th>\n",
       "      <th>between_cent</th>\n",
       "      <th>pagerank</th>\n",
       "      <th>relative_words</th>\n",
       "      <th>gender</th>\n",
       "      <th>importance</th>\n",
       "    </tr>\n",
       "  </thead>\n",
       "  <tbody>\n",
       "    <tr>\n",
       "      <th>5</th>\n",
       "      <td>fonvizin-brigadir</td>\n",
       "      <td>Софья</td>\n",
       "      <td>1.000</td>\n",
       "      <td>0.008</td>\n",
       "      <td>0.117</td>\n",
       "      <td>0.05288</td>\n",
       "      <td>0</td>\n",
       "      <td>1</td>\n",
       "    </tr>\n",
       "    <tr>\n",
       "      <th>7</th>\n",
       "      <td>fonvizin-brigadir</td>\n",
       "      <td>Добролюбов</td>\n",
       "      <td>0.857</td>\n",
       "      <td>0.000</td>\n",
       "      <td>0.110</td>\n",
       "      <td>0.04114</td>\n",
       "      <td>1</td>\n",
       "      <td>1</td>\n",
       "    </tr>\n",
       "    <tr>\n",
       "      <th>8</th>\n",
       "      <td>mamin-sibirjak-zolotopromyshlenniki</td>\n",
       "      <td>Белоносов</td>\n",
       "      <td>0.800</td>\n",
       "      <td>0.007</td>\n",
       "      <td>0.140</td>\n",
       "      <td>0.11100</td>\n",
       "      <td>1</td>\n",
       "      <td>1</td>\n",
       "    </tr>\n",
       "    <tr>\n",
       "      <th>9</th>\n",
       "      <td>mamin-sibirjak-zolotopromyshlenniki</td>\n",
       "      <td>Ширинкин</td>\n",
       "      <td>0.800</td>\n",
       "      <td>0.013</td>\n",
       "      <td>0.095</td>\n",
       "      <td>0.10451</td>\n",
       "      <td>1</td>\n",
       "      <td>1</td>\n",
       "    </tr>\n",
       "    <tr>\n",
       "      <th>11</th>\n",
       "      <td>mamin-sibirjak-zolotopromyshlenniki</td>\n",
       "      <td>Воротов</td>\n",
       "      <td>0.800</td>\n",
       "      <td>0.013</td>\n",
       "      <td>0.107</td>\n",
       "      <td>0.08289</td>\n",
       "      <td>1</td>\n",
       "      <td>1</td>\n",
       "    </tr>\n",
       "    <tr>\n",
       "      <th>...</th>\n",
       "      <td>...</td>\n",
       "      <td>...</td>\n",
       "      <td>...</td>\n",
       "      <td>...</td>\n",
       "      <td>...</td>\n",
       "      <td>...</td>\n",
       "      <td>...</td>\n",
       "      <td>...</td>\n",
       "    </tr>\n",
       "    <tr>\n",
       "      <th>314</th>\n",
       "      <td>sumarokov-vzdorschitsa</td>\n",
       "      <td>Ераст</td>\n",
       "      <td>0.857</td>\n",
       "      <td>0.000</td>\n",
       "      <td>0.139</td>\n",
       "      <td>0.03812</td>\n",
       "      <td>1</td>\n",
       "      <td>1</td>\n",
       "    </tr>\n",
       "    <tr>\n",
       "      <th>316</th>\n",
       "      <td>sumarokov-vzdorschitsa</td>\n",
       "      <td>Ворожея</td>\n",
       "      <td>0.857</td>\n",
       "      <td>0.000</td>\n",
       "      <td>0.068</td>\n",
       "      <td>0.05566</td>\n",
       "      <td>0</td>\n",
       "      <td>1</td>\n",
       "    </tr>\n",
       "    <tr>\n",
       "      <th>317</th>\n",
       "      <td>majkov-agriopa</td>\n",
       "      <td>Альбина</td>\n",
       "      <td>0.857</td>\n",
       "      <td>0.024</td>\n",
       "      <td>0.134</td>\n",
       "      <td>0.05445</td>\n",
       "      <td>0</td>\n",
       "      <td>1</td>\n",
       "    </tr>\n",
       "    <tr>\n",
       "      <th>321</th>\n",
       "      <td>majkov-agriopa</td>\n",
       "      <td>Аристон</td>\n",
       "      <td>0.857</td>\n",
       "      <td>0.024</td>\n",
       "      <td>0.100</td>\n",
       "      <td>0.06821</td>\n",
       "      <td>1</td>\n",
       "      <td>1</td>\n",
       "    </tr>\n",
       "    <tr>\n",
       "      <th>325</th>\n",
       "      <td>chekhov-medved</td>\n",
       "      <td>Лука</td>\n",
       "      <td>1.000</td>\n",
       "      <td>0.000</td>\n",
       "      <td>0.345</td>\n",
       "      <td>0.11941</td>\n",
       "      <td>1</td>\n",
       "      <td>1</td>\n",
       "    </tr>\n",
       "  </tbody>\n",
       "</table>\n",
       "<p>135 rows × 8 columns</p>\n",
       "</div>"
      ],
      "text/plain": [
       "                                    play        name  degree_cent  \\\n",
       "5                      fonvizin-brigadir       Софья        1.000   \n",
       "7                      fonvizin-brigadir  Добролюбов        0.857   \n",
       "8    mamin-sibirjak-zolotopromyshlenniki   Белоносов        0.800   \n",
       "9    mamin-sibirjak-zolotopromyshlenniki    Ширинкин        0.800   \n",
       "11   mamin-sibirjak-zolotopromyshlenniki     Воротов        0.800   \n",
       "..                                   ...         ...          ...   \n",
       "314               sumarokov-vzdorschitsa       Ераст        0.857   \n",
       "316               sumarokov-vzdorschitsa     Ворожея        0.857   \n",
       "317                       majkov-agriopa     Альбина        0.857   \n",
       "321                       majkov-agriopa     Аристон        0.857   \n",
       "325                       chekhov-medved        Лука        1.000   \n",
       "\n",
       "     between_cent  pagerank  relative_words  gender  importance  \n",
       "5           0.008     0.117         0.05288       0           1  \n",
       "7           0.000     0.110         0.04114       1           1  \n",
       "8           0.007     0.140         0.11100       1           1  \n",
       "9           0.013     0.095         0.10451       1           1  \n",
       "11          0.013     0.107         0.08289       1           1  \n",
       "..            ...       ...             ...     ...         ...  \n",
       "314         0.000     0.139         0.03812       1           1  \n",
       "316         0.000     0.068         0.05566       0           1  \n",
       "317         0.024     0.134         0.05445       0           1  \n",
       "321         0.024     0.100         0.06821       1           1  \n",
       "325         0.000     0.345         0.11941       1           1  \n",
       "\n",
       "[135 rows x 8 columns]"
      ]
     },
     "execution_count": 462,
     "metadata": {},
     "output_type": "execute_result"
    }
   ],
   "source": [
    "df.loc[df['importance']==1] # 135 supporting roles"
   ]
  },
  {
   "cell_type": "code",
   "execution_count": 464,
   "metadata": {},
   "outputs": [
    {
     "data": {
      "text/html": [
       "<div>\n",
       "<style scoped>\n",
       "    .dataframe tbody tr th:only-of-type {\n",
       "        vertical-align: middle;\n",
       "    }\n",
       "\n",
       "    .dataframe tbody tr th {\n",
       "        vertical-align: top;\n",
       "    }\n",
       "\n",
       "    .dataframe thead th {\n",
       "        text-align: right;\n",
       "    }\n",
       "</style>\n",
       "<table border=\"1\" class=\"dataframe\">\n",
       "  <thead>\n",
       "    <tr style=\"text-align: right;\">\n",
       "      <th></th>\n",
       "      <th>play</th>\n",
       "      <th>name</th>\n",
       "      <th>degree_cent</th>\n",
       "      <th>between_cent</th>\n",
       "      <th>pagerank</th>\n",
       "      <th>relative_words</th>\n",
       "      <th>gender</th>\n",
       "      <th>importance</th>\n",
       "    </tr>\n",
       "  </thead>\n",
       "  <tbody>\n",
       "    <tr>\n",
       "      <th>6</th>\n",
       "      <td>fonvizin-brigadir</td>\n",
       "      <td>Слуга</td>\n",
       "      <td>0.857</td>\n",
       "      <td>0.000</td>\n",
       "      <td>0.035</td>\n",
       "      <td>0.00034</td>\n",
       "      <td>1</td>\n",
       "      <td>2</td>\n",
       "    </tr>\n",
       "    <tr>\n",
       "      <th>15</th>\n",
       "      <td>mamin-sibirjak-zolotopromyshlenniki</td>\n",
       "      <td>Мосевна</td>\n",
       "      <td>0.900</td>\n",
       "      <td>0.028</td>\n",
       "      <td>0.052</td>\n",
       "      <td>0.04898</td>\n",
       "      <td>0</td>\n",
       "      <td>2</td>\n",
       "    </tr>\n",
       "    <tr>\n",
       "      <th>17</th>\n",
       "      <td>mamin-sibirjak-zolotopromyshlenniki</td>\n",
       "      <td>Даша</td>\n",
       "      <td>0.200</td>\n",
       "      <td>0.000</td>\n",
       "      <td>0.022</td>\n",
       "      <td>0.00315</td>\n",
       "      <td>0</td>\n",
       "      <td>2</td>\n",
       "    </tr>\n",
       "    <tr>\n",
       "      <th>18</th>\n",
       "      <td>mamin-sibirjak-zolotopromyshlenniki</td>\n",
       "      <td>Чепраков</td>\n",
       "      <td>0.600</td>\n",
       "      <td>0.000</td>\n",
       "      <td>0.064</td>\n",
       "      <td>0.01488</td>\n",
       "      <td>1</td>\n",
       "      <td>2</td>\n",
       "    </tr>\n",
       "    <tr>\n",
       "      <th>20</th>\n",
       "      <td>turgenev-zavtrak-u-predvoditelja</td>\n",
       "      <td>Герасим</td>\n",
       "      <td>0.800</td>\n",
       "      <td>0.013</td>\n",
       "      <td>0.085</td>\n",
       "      <td>0.01014</td>\n",
       "      <td>1</td>\n",
       "      <td>2</td>\n",
       "    </tr>\n",
       "    <tr>\n",
       "      <th>...</th>\n",
       "      <td>...</td>\n",
       "      <td>...</td>\n",
       "      <td>...</td>\n",
       "      <td>...</td>\n",
       "      <td>...</td>\n",
       "      <td>...</td>\n",
       "      <td>...</td>\n",
       "      <td>...</td>\n",
       "    </tr>\n",
       "    <tr>\n",
       "      <th>309</th>\n",
       "      <td>turgenev-vecher-v-sorrente</td>\n",
       "      <td>Голос певца</td>\n",
       "      <td>0.333</td>\n",
       "      <td>0.000</td>\n",
       "      <td>0.057</td>\n",
       "      <td>0.00507</td>\n",
       "      <td>1</td>\n",
       "      <td>2</td>\n",
       "    </tr>\n",
       "    <tr>\n",
       "      <th>320</th>\n",
       "      <td>majkov-agriopa</td>\n",
       "      <td>Военачальник</td>\n",
       "      <td>0.714</td>\n",
       "      <td>0.000</td>\n",
       "      <td>0.117</td>\n",
       "      <td>0.03547</td>\n",
       "      <td>1</td>\n",
       "      <td>2</td>\n",
       "    </tr>\n",
       "    <tr>\n",
       "      <th>323</th>\n",
       "      <td>majkov-agriopa</td>\n",
       "      <td>Один воин</td>\n",
       "      <td>0.143</td>\n",
       "      <td>0.000</td>\n",
       "      <td>0.027</td>\n",
       "      <td>0.00136</td>\n",
       "      <td>1</td>\n",
       "      <td>2</td>\n",
       "    </tr>\n",
       "    <tr>\n",
       "      <th>324</th>\n",
       "      <td>majkov-agriopa</td>\n",
       "      <td>Вестник</td>\n",
       "      <td>0.714</td>\n",
       "      <td>0.000</td>\n",
       "      <td>0.060</td>\n",
       "      <td>0.03012</td>\n",
       "      <td>1</td>\n",
       "      <td>2</td>\n",
       "    </tr>\n",
       "    <tr>\n",
       "      <th>332</th>\n",
       "      <td>chekhov-jubilej</td>\n",
       "      <td>Член банка</td>\n",
       "      <td>0.750</td>\n",
       "      <td>0.000</td>\n",
       "      <td>0.084</td>\n",
       "      <td>0.04462</td>\n",
       "      <td>1</td>\n",
       "      <td>2</td>\n",
       "    </tr>\n",
       "  </tbody>\n",
       "</table>\n",
       "<p>75 rows × 8 columns</p>\n",
       "</div>"
      ],
      "text/plain": [
       "                                    play          name  degree_cent  \\\n",
       "6                      fonvizin-brigadir         Слуга        0.857   \n",
       "15   mamin-sibirjak-zolotopromyshlenniki       Мосевна        0.900   \n",
       "17   mamin-sibirjak-zolotopromyshlenniki          Даша        0.200   \n",
       "18   mamin-sibirjak-zolotopromyshlenniki      Чепраков        0.600   \n",
       "20      turgenev-zavtrak-u-predvoditelja       Герасим        0.800   \n",
       "..                                   ...           ...          ...   \n",
       "309           turgenev-vecher-v-sorrente   Голос певца        0.333   \n",
       "320                       majkov-agriopa  Военачальник        0.714   \n",
       "323                       majkov-agriopa     Один воин        0.143   \n",
       "324                       majkov-agriopa       Вестник        0.714   \n",
       "332                      chekhov-jubilej    Член банка        0.750   \n",
       "\n",
       "     between_cent  pagerank  relative_words  gender  importance  \n",
       "6           0.000     0.035         0.00034       1           2  \n",
       "15          0.028     0.052         0.04898       0           2  \n",
       "17          0.000     0.022         0.00315       0           2  \n",
       "18          0.000     0.064         0.01488       1           2  \n",
       "20          0.013     0.085         0.01014       1           2  \n",
       "..            ...       ...             ...     ...         ...  \n",
       "309         0.000     0.057         0.00507       1           2  \n",
       "320         0.000     0.117         0.03547       1           2  \n",
       "323         0.000     0.027         0.00136       1           2  \n",
       "324         0.000     0.060         0.03012       1           2  \n",
       "332         0.000     0.084         0.04462       1           2  \n",
       "\n",
       "[75 rows x 8 columns]"
      ]
     },
     "execution_count": 464,
     "metadata": {},
     "output_type": "execute_result"
    }
   ],
   "source": [
    "df.loc[df['importance']==2] # 75 episode roles"
   ]
  },
  {
   "cell_type": "code",
   "execution_count": null,
   "metadata": {},
   "outputs": [],
   "source": [
    "df.sample(frac=1) # shuffle our df"
   ]
  },
  {
   "cell_type": "code",
   "execution_count": 231,
   "metadata": {},
   "outputs": [],
   "source": [
    "# we take just degree_cent, pagerank, relative_words as features for prediction because statistical test showed that\n",
    "# between_cent is not statistically significant"
   ]
  },
  {
   "cell_type": "code",
   "execution_count": 465,
   "metadata": {},
   "outputs": [],
   "source": [
    "X = df.filter(['degree_cent', 'pagerank', 'relative_words']).values.tolist() # features\n",
    "Y = df['importance'].values.tolist() # classes"
   ]
  },
  {
   "cell_type": "code",
   "execution_count": 466,
   "metadata": {},
   "outputs": [],
   "source": [
    "X_train, X_test, y_train, y_test = train_test_split(X, Y, test_size=0.1, random_state=42) "
   ]
  },
  {
   "cell_type": "code",
   "execution_count": 468,
   "metadata": {},
   "outputs": [
    {
     "name": "stderr",
     "output_type": "stream",
     "text": [
      "/usr/local/lib/python3.7/site-packages/sklearn/svm/base.py:193: FutureWarning: The default value of gamma will change from 'auto' to 'scale' in version 0.22 to account better for unscaled features. Set gamma explicitly to 'auto' or 'scale' to avoid this warning.\n",
      "  \"avoid this warning.\", FutureWarning)\n"
     ]
    },
    {
     "data": {
      "text/plain": [
       "SVC(C=1.0, cache_size=200, class_weight=None, coef0=0.0,\n",
       "    decision_function_shape='ovo', degree=3, gamma='auto_deprecated',\n",
       "    kernel='rbf', max_iter=-1, probability=False, random_state=None,\n",
       "    shrinking=True, tol=0.001, verbose=False)"
      ]
     },
     "execution_count": 468,
     "metadata": {},
     "output_type": "execute_result"
    }
   ],
   "source": [
    "clf = svm.SVC(decision_function_shape='ovo') # one vs one classifier\n",
    "clf.fit(X_train, y_train)"
   ]
  },
  {
   "cell_type": "code",
   "execution_count": 469,
   "metadata": {},
   "outputs": [],
   "source": [
    "y_pred=clf.predict(X_test)"
   ]
  },
  {
   "cell_type": "code",
   "execution_count": 470,
   "metadata": {},
   "outputs": [
    {
     "data": {
      "text/plain": [
       "0.7058823529411765"
      ]
     },
     "execution_count": 470,
     "metadata": {},
     "output_type": "execute_result"
    }
   ],
   "source": [
    "accuracy_score(y_test, y_pred)"
   ]
  },
  {
   "cell_type": "code",
   "execution_count": 471,
   "metadata": {},
   "outputs": [
    {
     "data": {
      "text/plain": [
       "0.6900584795321637"
      ]
     },
     "execution_count": 471,
     "metadata": {},
     "output_type": "execute_result"
    }
   ],
   "source": [
    "f1_score(y_test, y_pred, average='macro')"
   ]
  },
  {
   "cell_type": "code",
   "execution_count": 472,
   "metadata": {},
   "outputs": [
    {
     "data": {
      "text/plain": [
       "0.7058823529411765"
      ]
     },
     "execution_count": 472,
     "metadata": {},
     "output_type": "execute_result"
    }
   ],
   "source": [
    "f1_score(y_test, y_pred, average='micro')"
   ]
  },
  {
   "cell_type": "code",
   "execution_count": null,
   "metadata": {},
   "outputs": [],
   "source": []
  }
 ],
 "metadata": {
  "kernelspec": {
   "display_name": "Python 3",
   "language": "python",
   "name": "python3"
  },
  "language_info": {
   "codemirror_mode": {
    "name": "ipython",
    "version": 3
   },
   "file_extension": ".py",
   "mimetype": "text/x-python",
   "name": "python",
   "nbconvert_exporter": "python",
   "pygments_lexer": "ipython3",
   "version": "3.7.4"
  }
 },
 "nbformat": 4,
 "nbformat_minor": 2
}
